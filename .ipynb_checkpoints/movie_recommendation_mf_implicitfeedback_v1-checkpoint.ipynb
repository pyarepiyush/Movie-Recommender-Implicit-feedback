{
 "cells": [
  {
   "cell_type": "markdown",
   "metadata": {},
   "source": [
    "# Movie recommendation using binary (like/dislike) target"
   ]
  },
  {
   "cell_type": "markdown",
   "metadata": {},
   "source": [
    "## 1. Load packages and datasets"
   ]
  },
  {
   "cell_type": "code",
   "execution_count": 3,
   "metadata": {},
   "outputs": [
    {
     "name": "stdout",
     "output_type": "stream",
     "text": [
      "/data2/pneupane/study_topics/CF/\n"
     ]
    },
    {
     "data": {
      "text/plain": [
       "None"
      ]
     },
     "metadata": {},
     "output_type": "display_data"
    },
    {
     "data": {
      "text/plain": [
       "(20000263, 4)"
      ]
     },
     "metadata": {},
     "output_type": "display_data"
    },
    {
     "data": {
      "text/plain": [
       "(27278, 3)"
      ]
     },
     "metadata": {},
     "output_type": "display_data"
    }
   ],
   "source": [
    "import pandas as pd\n",
    "import numpy as np\n",
    "import time\n",
    "import os\n",
    "from pandas.core.reshape.util import cartesian_product\n",
    "import matplotlib.pyplot as plt\n",
    "import turicreate as tc\n",
    "import matplotlib.pyplot as plt\n",
    "from sklearn.metrics import roc_curve, auc, precision_recall_fscore_support, accuracy_score\n",
    "\n",
    "from __future__ import absolute_import, division, print_function\n",
    "from sklearn.base import BaseEstimator\n",
    "from datetime import datetime\n",
    "from sklearn.model_selection import GridSearchCV, RandomizedSearchCV, KFold, RepeatedKFold, StratifiedKFold, train_test_split\n",
    "\n",
    "\n",
    "wdirectory_path = os.getcwd()+\"/\"\n",
    "\n",
    "display(print(wdirectory_path))\n",
    "\n",
    "data_dir = '/data2/pneupane/study_topics/CF/data/ml-20m/'\n",
    "\n",
    "\n",
    "# Read pandas dataset\n",
    "actions = pd.read_csv(data_dir+'/ratings.csv')\n",
    "items = pd.read_csv(data_dir+'/movies.csv')\n",
    "\n",
    "display(actions.shape)\n",
    "display(items.shape)\n",
    "\n",
    "### Define formatting\n",
    "pd.options.display.float_format = '{:20,.2f}'.format # 2 decimal points)\n",
    "\n"
   ]
  },
  {
   "cell_type": "code",
   "execution_count": 4,
   "metadata": {},
   "outputs": [
    {
     "data": {
      "text/html": [
       "<div>\n",
       "<style scoped>\n",
       "    .dataframe tbody tr th:only-of-type {\n",
       "        vertical-align: middle;\n",
       "    }\n",
       "\n",
       "    .dataframe tbody tr th {\n",
       "        vertical-align: top;\n",
       "    }\n",
       "\n",
       "    .dataframe thead th {\n",
       "        text-align: right;\n",
       "    }\n",
       "</style>\n",
       "<table border=\"1\" class=\"dataframe\">\n",
       "  <thead>\n",
       "    <tr style=\"text-align: right;\">\n",
       "      <th></th>\n",
       "      <th>userId</th>\n",
       "      <th>movieId</th>\n",
       "      <th>rating</th>\n",
       "      <th>timestamp</th>\n",
       "    </tr>\n",
       "  </thead>\n",
       "  <tbody>\n",
       "    <tr>\n",
       "      <th>0</th>\n",
       "      <td>1</td>\n",
       "      <td>2</td>\n",
       "      <td>3.50</td>\n",
       "      <td>1112486027</td>\n",
       "    </tr>\n",
       "    <tr>\n",
       "      <th>1</th>\n",
       "      <td>1</td>\n",
       "      <td>29</td>\n",
       "      <td>3.50</td>\n",
       "      <td>1112484676</td>\n",
       "    </tr>\n",
       "    <tr>\n",
       "      <th>2</th>\n",
       "      <td>1</td>\n",
       "      <td>32</td>\n",
       "      <td>3.50</td>\n",
       "      <td>1112484819</td>\n",
       "    </tr>\n",
       "    <tr>\n",
       "      <th>3</th>\n",
       "      <td>1</td>\n",
       "      <td>47</td>\n",
       "      <td>3.50</td>\n",
       "      <td>1112484727</td>\n",
       "    </tr>\n",
       "    <tr>\n",
       "      <th>4</th>\n",
       "      <td>1</td>\n",
       "      <td>50</td>\n",
       "      <td>3.50</td>\n",
       "      <td>1112484580</td>\n",
       "    </tr>\n",
       "    <tr>\n",
       "      <th>5</th>\n",
       "      <td>1</td>\n",
       "      <td>112</td>\n",
       "      <td>3.50</td>\n",
       "      <td>1094785740</td>\n",
       "    </tr>\n",
       "    <tr>\n",
       "      <th>6</th>\n",
       "      <td>1</td>\n",
       "      <td>151</td>\n",
       "      <td>4.00</td>\n",
       "      <td>1094785734</td>\n",
       "    </tr>\n",
       "    <tr>\n",
       "      <th>7</th>\n",
       "      <td>1</td>\n",
       "      <td>223</td>\n",
       "      <td>4.00</td>\n",
       "      <td>1112485573</td>\n",
       "    </tr>\n",
       "    <tr>\n",
       "      <th>8</th>\n",
       "      <td>1</td>\n",
       "      <td>253</td>\n",
       "      <td>4.00</td>\n",
       "      <td>1112484940</td>\n",
       "    </tr>\n",
       "    <tr>\n",
       "      <th>9</th>\n",
       "      <td>1</td>\n",
       "      <td>260</td>\n",
       "      <td>4.00</td>\n",
       "      <td>1112484826</td>\n",
       "    </tr>\n",
       "  </tbody>\n",
       "</table>\n",
       "</div>"
      ],
      "text/plain": [
       "   userId  movieId               rating   timestamp\n",
       "0       1        2                 3.50  1112486027\n",
       "1       1       29                 3.50  1112484676\n",
       "2       1       32                 3.50  1112484819\n",
       "3       1       47                 3.50  1112484727\n",
       "4       1       50                 3.50  1112484580\n",
       "5       1      112                 3.50  1094785740\n",
       "6       1      151                 4.00  1094785734\n",
       "7       1      223                 4.00  1112485573\n",
       "8       1      253                 4.00  1112484940\n",
       "9       1      260                 4.00  1112484826"
      ]
     },
     "metadata": {},
     "output_type": "display_data"
    },
    {
     "data": {
      "text/html": [
       "<div>\n",
       "<style scoped>\n",
       "    .dataframe tbody tr th:only-of-type {\n",
       "        vertical-align: middle;\n",
       "    }\n",
       "\n",
       "    .dataframe tbody tr th {\n",
       "        vertical-align: top;\n",
       "    }\n",
       "\n",
       "    .dataframe thead th {\n",
       "        text-align: right;\n",
       "    }\n",
       "</style>\n",
       "<table border=\"1\" class=\"dataframe\">\n",
       "  <thead>\n",
       "    <tr style=\"text-align: right;\">\n",
       "      <th></th>\n",
       "      <th>movieId</th>\n",
       "      <th>title</th>\n",
       "      <th>genres</th>\n",
       "    </tr>\n",
       "  </thead>\n",
       "  <tbody>\n",
       "    <tr>\n",
       "      <th>0</th>\n",
       "      <td>1</td>\n",
       "      <td>Toy Story (1995)</td>\n",
       "      <td>Adventure|Animation|Children|Comedy|Fantasy</td>\n",
       "    </tr>\n",
       "    <tr>\n",
       "      <th>1</th>\n",
       "      <td>2</td>\n",
       "      <td>Jumanji (1995)</td>\n",
       "      <td>Adventure|Children|Fantasy</td>\n",
       "    </tr>\n",
       "    <tr>\n",
       "      <th>2</th>\n",
       "      <td>3</td>\n",
       "      <td>Grumpier Old Men (1995)</td>\n",
       "      <td>Comedy|Romance</td>\n",
       "    </tr>\n",
       "    <tr>\n",
       "      <th>3</th>\n",
       "      <td>4</td>\n",
       "      <td>Waiting to Exhale (1995)</td>\n",
       "      <td>Comedy|Drama|Romance</td>\n",
       "    </tr>\n",
       "    <tr>\n",
       "      <th>4</th>\n",
       "      <td>5</td>\n",
       "      <td>Father of the Bride Part II (1995)</td>\n",
       "      <td>Comedy</td>\n",
       "    </tr>\n",
       "    <tr>\n",
       "      <th>5</th>\n",
       "      <td>6</td>\n",
       "      <td>Heat (1995)</td>\n",
       "      <td>Action|Crime|Thriller</td>\n",
       "    </tr>\n",
       "    <tr>\n",
       "      <th>6</th>\n",
       "      <td>7</td>\n",
       "      <td>Sabrina (1995)</td>\n",
       "      <td>Comedy|Romance</td>\n",
       "    </tr>\n",
       "    <tr>\n",
       "      <th>7</th>\n",
       "      <td>8</td>\n",
       "      <td>Tom and Huck (1995)</td>\n",
       "      <td>Adventure|Children</td>\n",
       "    </tr>\n",
       "    <tr>\n",
       "      <th>8</th>\n",
       "      <td>9</td>\n",
       "      <td>Sudden Death (1995)</td>\n",
       "      <td>Action</td>\n",
       "    </tr>\n",
       "    <tr>\n",
       "      <th>9</th>\n",
       "      <td>10</td>\n",
       "      <td>GoldenEye (1995)</td>\n",
       "      <td>Action|Adventure|Thriller</td>\n",
       "    </tr>\n",
       "  </tbody>\n",
       "</table>\n",
       "</div>"
      ],
      "text/plain": [
       "   movieId                               title  \\\n",
       "0        1                    Toy Story (1995)   \n",
       "1        2                      Jumanji (1995)   \n",
       "2        3             Grumpier Old Men (1995)   \n",
       "3        4            Waiting to Exhale (1995)   \n",
       "4        5  Father of the Bride Part II (1995)   \n",
       "5        6                         Heat (1995)   \n",
       "6        7                      Sabrina (1995)   \n",
       "7        8                 Tom and Huck (1995)   \n",
       "8        9                 Sudden Death (1995)   \n",
       "9       10                    GoldenEye (1995)   \n",
       "\n",
       "                                        genres  \n",
       "0  Adventure|Animation|Children|Comedy|Fantasy  \n",
       "1                   Adventure|Children|Fantasy  \n",
       "2                               Comedy|Romance  \n",
       "3                         Comedy|Drama|Romance  \n",
       "4                                       Comedy  \n",
       "5                        Action|Crime|Thriller  \n",
       "6                               Comedy|Romance  \n",
       "7                           Adventure|Children  \n",
       "8                                       Action  \n",
       "9                    Action|Adventure|Thriller  "
      ]
     },
     "metadata": {},
     "output_type": "display_data"
    }
   ],
   "source": [
    "display(actions[0:10])\n",
    "display(items[0:10])\n"
   ]
  },
  {
   "cell_type": "markdown",
   "metadata": {},
   "source": [
    "## 2. EDA and cleanup using Pandas dataframe\n",
    "Using pandas so sci-kit learn can be used along with Turicreate.  "
   ]
  },
  {
   "cell_type": "markdown",
   "metadata": {},
   "source": [
    "### 2.1 Cleanup and target transformation\n",
    "- Remove items that are rare, i.e., movies that are viewed by less than 50 users.\n",
    "- Change the target from ratings of 1-5, to binary value, i.e., if the rating is below 3.5, then the target is 0 (did not like the movie), else it is 1 (liked the movie).\n",
    "- Split 20% data as train and 20% as test. This is done to speed-up the process. \n"
   ]
  },
  {
   "cell_type": "code",
   "execution_count": 5,
   "metadata": {},
   "outputs": [
    {
     "name": "stdout",
     "output_type": "stream",
     "text": [
      "-------- Actions --------\n"
     ]
    },
    {
     "data": {
      "text/plain": [
       "None"
      ]
     },
     "metadata": {},
     "output_type": "display_data"
    },
    {
     "name": "stdout",
     "output_type": "stream",
     "text": [
      "(19845397, 6)\n"
     ]
    },
    {
     "data": {
      "text/plain": [
       "None"
      ]
     },
     "metadata": {},
     "output_type": "display_data"
    },
    {
     "name": "stdout",
     "output_type": "stream",
     "text": [
      "          userId  movieId               rating   timestamp  counts  rating_bin\n",
      "16819868  116323     6206                 4.00  1046015197      51           1\n",
      "13170331   91011   112006                 3.50  1422470425      51           1\n",
      "12778798   88312     8423                 3.50  1209302882      51           1\n",
      "10782454   74545    26299                 4.50  1287928169      51           1\n",
      "19685028  136268   117887                 4.00  1424636046      51           1\n",
      "1851559    12531     8780                 3.50  1135560499      51           1\n",
      "19005419  131496     6876                 3.00  1082730849      51           0\n",
      "7300040    50367    33629                 0.50  1338048432      51           0\n",
      "12425894   85833    26365                 3.50  1423495703      51           1\n",
      "4906790    33736     7186                 1.50  1073341397      51           0\n"
     ]
    },
    {
     "data": {
      "text/plain": [
       "None"
      ]
     },
     "metadata": {},
     "output_type": "display_data"
    },
    {
     "name": "stderr",
     "output_type": "stream",
     "text": [
      "/usr/local/lib/python2.7/dist-packages/sklearn/model_selection/_split.py:2026: FutureWarning: From version 0.21, test_size will always complement train_size unless both are specified.\n",
      "  FutureWarning)\n"
     ]
    },
    {
     "name": "stdout",
     "output_type": "stream",
     "text": [
      "-------- Train --------\n",
      "          userId  movieId               rating   timestamp  counts  rating_bin\n",
      "10793517   74628     5941                 3.50  1084469146    1028           1\n",
      "13599278   93933     1855                 2.00  1010429356     796           0\n",
      "2469854    16704     1376                 4.00   926371991   13098           1\n",
      "5678476    39089     4321                 3.00  1112315600    7008           0\n",
      "18085635  125092     5387                 4.50  1124001608     667           1\n",
      "17204312  119013     3700                 3.00   960337257    1053           0\n",
      "7503863    51763    53207                 3.50  1277823672     628           1\n",
      "9367768    64813     2064                 4.00   940073899    7371           1\n",
      "9150847    63229      661                 4.00   857934988   10228           1\n",
      "18011497  124565      912                 4.50  1225197621   24349           1\n"
     ]
    },
    {
     "data": {
      "text/plain": [
       "None"
      ]
     },
     "metadata": {},
     "output_type": "display_data"
    },
    {
     "name": "stdout",
     "output_type": "stream",
     "text": [
      "(1984539, 6)\n"
     ]
    },
    {
     "data": {
      "text/plain": [
       "None"
      ]
     },
     "metadata": {},
     "output_type": "display_data"
    },
    {
     "data": {
      "text/plain": [
       "'Unique users'"
      ]
     },
     "metadata": {},
     "output_type": "display_data"
    },
    {
     "data": {
      "text/plain": [
       "135604"
      ]
     },
     "metadata": {},
     "output_type": "display_data"
    },
    {
     "data": {
      "text/plain": [
       "'Unique items'"
      ]
     },
     "metadata": {},
     "output_type": "display_data"
    },
    {
     "data": {
      "text/plain": [
       "10472"
      ]
     },
     "metadata": {},
     "output_type": "display_data"
    },
    {
     "name": "stdout",
     "output_type": "stream",
     "text": [
      "-------- Test --------\n",
      "          userId  movieId               rating   timestamp  counts  rating_bin\n",
      "940367      6314    32031                 3.00  1145415713    1777           0\n",
      "15824489  109455     1918                 4.00   959620746    8505           1\n",
      "15511621  107275      720                 4.00   884030138    8171           1\n",
      "418858      2857     4042                 2.00   978970137     623           0\n",
      "19980181  138330     2336                 4.00   945152317    9009           1\n",
      "3581768    24443    26152                 5.00  1251058036     783           1\n",
      "2173734    14705    90057                 3.00  1324735248     386           0\n",
      "6985794    48124     2641                 4.00   949360876    8076           1\n",
      "461505      3163     5445                 4.00  1409607083   23642           1\n",
      "13096893   90482     5992                 2.00  1161810987    4017           0\n"
     ]
    },
    {
     "data": {
      "text/plain": [
       "None"
      ]
     },
     "metadata": {},
     "output_type": "display_data"
    },
    {
     "name": "stdout",
     "output_type": "stream",
     "text": [
      "(178608, 6)\n"
     ]
    },
    {
     "data": {
      "text/plain": [
       "None"
      ]
     },
     "metadata": {},
     "output_type": "display_data"
    },
    {
     "data": {
      "text/plain": [
       "'Unique users'"
      ]
     },
     "metadata": {},
     "output_type": "display_data"
    },
    {
     "data": {
      "text/plain": [
       "71408"
      ]
     },
     "metadata": {},
     "output_type": "display_data"
    },
    {
     "data": {
      "text/plain": [
       "'Unique items'"
      ]
     },
     "metadata": {},
     "output_type": "display_data"
    },
    {
     "data": {
      "text/plain": [
       "8829"
      ]
     },
     "metadata": {},
     "output_type": "display_data"
    }
   ],
   "source": [
    "### Cleanup:\n",
    "# Remove items that are rare & Perform test, train and validation splits\n",
    "if True:\n",
    "    actions1 = actions.copy()\n",
    "    actions1['counts'] = 1\n",
    "    actions1['counts'] = actions1.groupby('movieId', as_index=False\n",
    "                                         )['counts'\n",
    "                                          ].transform('count')\n",
    "    actions1 = actions1.sort_values(['counts'],ascending=True)\n",
    "\n",
    "    # Remove cases with very small count of movies\n",
    "    actions1 = actions1[actions1.counts>50]\n",
    "\n",
    "    \n",
    "    # if rating>=3.5 then 1 else 0. This will create a binary like/dislike target, instead of 1-5 rating\n",
    "    \n",
    "    actions1['rating_bin'] = np.where(actions1.rating>=3.5,1,0)\n",
    "    \n",
    "    display(print('-------- Actions --------'))\n",
    "    display(print(actions1.shape))\n",
    "    display(print(actions1[0:10]))\n",
    "\n",
    "\n",
    "train_split_ratio = .1\n",
    "train, test_1 = train_test_split(actions1,  train_size=train_split_ratio, random_state=1)\n",
    "\n",
    "test, rest   = train_test_split(test_1, train_size=.01, random_state=1)\n",
    "\n",
    "# Set aside data to perform hyperparameter tuning\n",
    "#rest1, rest2   = train_test_split(rest, train_size=0.2, random_state=1)\n",
    "\n",
    "def disp(df):    \n",
    "    display(print(df[0:10]))\n",
    "    display(print(df.shape))\n",
    "    display('Unique users',df.userId.drop_duplicates().count())\n",
    "    display('Unique items',df.movieId.drop_duplicates().count())\n",
    "\n",
    "\n",
    "print('-------- Train --------')\n",
    "disp(train)\n",
    "\n",
    "print('-------- Test --------')\n",
    "disp(test)\n",
    "\n",
    "# print('-------- valid --------')\n",
    "# disp(valid)\n",
    "\n",
    "# print('-------- Rest1 --------')\n",
    "# disp(rest1)\n",
    "\n"
   ]
  },
  {
   "cell_type": "markdown",
   "metadata": {},
   "source": [
    "### 2.2 Check the priors"
   ]
  },
  {
   "cell_type": "code",
   "execution_count": 6,
   "metadata": {},
   "outputs": [
    {
     "data": {
      "text/html": [
       "<div>\n",
       "<style scoped>\n",
       "    .dataframe tbody tr th:only-of-type {\n",
       "        vertical-align: middle;\n",
       "    }\n",
       "\n",
       "    .dataframe tbody tr th {\n",
       "        vertical-align: top;\n",
       "    }\n",
       "\n",
       "    .dataframe thead th {\n",
       "        text-align: right;\n",
       "    }\n",
       "</style>\n",
       "<table border=\"1\" class=\"dataframe\">\n",
       "  <thead>\n",
       "    <tr style=\"text-align: right;\">\n",
       "      <th></th>\n",
       "      <th>rating_bin</th>\n",
       "      <th>timestamp</th>\n",
       "      <th>pct</th>\n",
       "    </tr>\n",
       "  </thead>\n",
       "  <tbody>\n",
       "    <tr>\n",
       "      <th>0</th>\n",
       "      <td>0</td>\n",
       "      <td>773340</td>\n",
       "      <td>0.39</td>\n",
       "    </tr>\n",
       "    <tr>\n",
       "      <th>1</th>\n",
       "      <td>1</td>\n",
       "      <td>1211199</td>\n",
       "      <td>0.61</td>\n",
       "    </tr>\n",
       "  </tbody>\n",
       "</table>\n",
       "</div>"
      ],
      "text/plain": [
       "   rating_bin  timestamp                  pct\n",
       "0           0     773340                 0.39\n",
       "1           1    1211199                 0.61"
      ]
     },
     "metadata": {},
     "output_type": "display_data"
    },
    {
     "data": {
      "text/html": [
       "<div>\n",
       "<style scoped>\n",
       "    .dataframe tbody tr th:only-of-type {\n",
       "        vertical-align: middle;\n",
       "    }\n",
       "\n",
       "    .dataframe tbody tr th {\n",
       "        vertical-align: top;\n",
       "    }\n",
       "\n",
       "    .dataframe thead th {\n",
       "        text-align: right;\n",
       "    }\n",
       "</style>\n",
       "<table border=\"1\" class=\"dataframe\">\n",
       "  <thead>\n",
       "    <tr style=\"text-align: right;\">\n",
       "      <th></th>\n",
       "      <th>rating_bin</th>\n",
       "      <th>timestamp</th>\n",
       "      <th>pct</th>\n",
       "    </tr>\n",
       "  </thead>\n",
       "  <tbody>\n",
       "    <tr>\n",
       "      <th>0</th>\n",
       "      <td>0</td>\n",
       "      <td>69593</td>\n",
       "      <td>0.39</td>\n",
       "    </tr>\n",
       "    <tr>\n",
       "      <th>1</th>\n",
       "      <td>1</td>\n",
       "      <td>109015</td>\n",
       "      <td>0.61</td>\n",
       "    </tr>\n",
       "  </tbody>\n",
       "</table>\n",
       "</div>"
      ],
      "text/plain": [
       "   rating_bin  timestamp                  pct\n",
       "0           0      69593                 0.39\n",
       "1           1     109015                 0.61"
      ]
     },
     "metadata": {},
     "output_type": "display_data"
    }
   ],
   "source": [
    "pd.options.display.float_format = '{:20,.2f}'.format\n",
    "\n",
    "### Check the priors ###\n",
    "def grp(ds_in):\n",
    "    a = ds_in.groupby(['rating_bin'],as_index=False)['timestamp'].count()\n",
    "    a['pct'] = a.timestamp/a.timestamp.sum()\n",
    "\n",
    "    display(a)\n",
    "    \n",
    "grp(train)\n",
    "grp(test)\n"
   ]
  },
  {
   "cell_type": "markdown",
   "metadata": {},
   "source": [
    "## 3. Gridsearch Hyperparamers\n",
    "\n",
    "Select the best combination of parameters on the data and train the dataset on the best parameters.\n",
    "\n",
    "Gridsearch is not supported by Turicreate, we need to roll up user-defined estimator for scikit-learn RandomizedSearchCV. Convert the dataset to pandas so scikit-learn can use it."
   ]
  },
  {
   "cell_type": "code",
   "execution_count": 10,
   "metadata": {},
   "outputs": [],
   "source": [
    "class Turi_Recommender(BaseEstimator):\n",
    "    \"\"\"\n",
    "    Roll a scikit-learn-compatible estimator to use sklearn's GridSearchCV and Pipeline\n",
    "    \"\"\"\n",
    "    \n",
    "    def __init__(self, user_col, item_col, ratings_col, k=5,\n",
    "                 num_factors=32, regularization=1e-09, linear_regularization=1e-09):\n",
    "        self.user_col = user_col\n",
    "        self.item_col = item_col\n",
    "        self.ratings_col = ratings_col\n",
    "        self.k = k\n",
    "        \n",
    "        self.num_factors = num_factors\n",
    "        self.regularization = regularization\n",
    "        self.linear_regularization = linear_regularization\n",
    "        \n",
    "        \n",
    "    def fit(self, x, y=None):\n",
    "        # x is a Pandas dataframe\n",
    "        print (\"Converting to sf_ui\")\n",
    "        start_time = datetime.now()\n",
    "        self.sf_ui = tc.SFrame(x.loc[:,[self.user_col, self.item_col, self.ratings_col]]).unique()\n",
    "        print('Time Elapsed {0}'.format(datetime.now() - start_time))\n",
    "        \n",
    "        print (\"Fitting\")\n",
    "        self.model = tc.ranking_factorization_recommender.create(observation_data=self.sf_ui,\n",
    "                                                                 user_id=self.user_col,\n",
    "                                                                 item_id=self.item_col,\n",
    "                                                                 target = self.ratings_col,\n",
    "                                                                 verbose=False,\n",
    "                                                                 binary_target=True\n",
    "                                                                )\n",
    "        print('Time Elapsed {0}'.format(datetime.now() - start_time))\n",
    "        \n",
    "        return self\n",
    "    \n",
    "    \n",
    "    \n",
    "    def score(self, X, y=None):\n",
    "        \n",
    "        # X is a Pandas dataframe\n",
    "        self.sf_X = tc.SFrame(X.loc[:,[self.user_col, self.item_col, self.ratings_col]]).unique()\n",
    "        \n",
    "\n",
    "        scores = self.model.evaluate_precision_recall(self.sf_X, \n",
    "                                                      exclude_known=False,\n",
    "                                                      verbose=False).values()[0]\n",
    "\n",
    "        # Keep only cutoff@k\n",
    "        # Find the closet cutoff at k, Turi's evaluate_precision_recall only provides limited cutoffs\n",
    "        closet_idx = (np.abs(np.asarray(scores['cutoff']) - self.k)).argmin()\n",
    "        scores = scores[scores['cutoff'] == np.asarray(scores['cutoff'])[closet_idx]]\n",
    "        \n",
    "        self.recall = scores['recall'].mean()\n",
    "        self.precision = scores['precision'].mean()\n",
    "\n",
    "        try:\n",
    "            self.f1 = 2*(self.recall*self.precision)/(self.recall+self.precision)\n",
    "        except ZeroDivisionError:\n",
    "            self.f1 = 0\n",
    "        return self.f1\n",
    "\n"
   ]
  },
  {
   "cell_type": "code",
   "execution_count": 12,
   "metadata": {},
   "outputs": [],
   "source": [
    "\n",
    "### Gridsearch the Turi Model\n",
    "def train_final_model(df, user_col, item_col, ratings_col,k,\n",
    "                      param_grid, \n",
    "                      n_splits, n_iter,\n",
    "                      partition=None):\n",
    "    \"\"\"\n",
    "    \n",
    "    \"\"\"\n",
    "            \n",
    "    print(\"Searching Hyperparameters...\")\n",
    "    start_time = datetime.now()\n",
    "    \n",
    "    # Grid Search best hyperparameters\n",
    "    cv = KFold(n_splits=n_splits, random_state=2018)\n",
    "#         cv = RepeatedKFold(n_splits=n_splits, n_repeats=2, random_state=2018)\n",
    "\n",
    "       \n",
    "    try:\n",
    "        print(\"Trying RandomizedSearchCV\")\n",
    "        gs = RandomizedSearchCV(Turi_Recommender(user_col, item_col, ratings_col,k),\n",
    "                                param_grid,\n",
    "                                cv=cv,\n",
    "                                verbose=10,\n",
    "                                n_iter=n_iter,\n",
    "                                #n_jobs = n_iter*n_splits,\n",
    "                               ).fit(df)\n",
    "    except:\n",
    "        print(\"Trying GridSearchCV\")\n",
    "        gs = GridSearchCV(Turi_Recommender(user_col, item_col, ratings_col,k),\n",
    "                          param_grid,\n",
    "                          cv=cv,\n",
    "                          #n_jobs = n_splits,\n",
    "                          verbose=10,\n",
    "                         ).fit(df)\n",
    "\n",
    "    print('Time Elapsed: {0}'.format(datetime.now() - start_time))\n",
    "    print (\"Best Parameters: {0}\".format(gs.best_params_))\n",
    "    print (\"Best Mean Cross-validated f1: {0}\".format(gs.best_score_))\n",
    "\n",
    "\n",
    "    ### Train with all data and the best hyperparameters\n",
    "    print(\"\\nTraining model with the best hyperparameters...\")\n",
    "    start_time = datetime.now()\n",
    "    turi_recommender = Turi_Recommender(user_col, item_col, ratings_col,\n",
    "                                        **gs.best_params_) # whoa!\n",
    "    turi_recommender.fit(df)\n",
    "    m = turi_recommender.model\n",
    "\n",
    "    # saved model when using full data, False when using sample\n",
    "    model_path = wdirectory_path+'/model/model_recommend_boolean_target'\n",
    "    print(\"Saving model to: {0}\".format(model_path))\n",
    "    m.save(model_path)\n",
    "\n",
    "    print('Time Elapsed: {0}'.format(datetime.now() - start_time))\n",
    "\n",
    "    return m"
   ]
  },
  {
   "cell_type": "code",
   "execution_count": 69,
   "metadata": {},
   "outputs": [
    {
     "name": "stdout",
     "output_type": "stream",
     "text": [
      "[ 10  20  30  40  50  60  70  80  90 100 110 120 130 140 150 160 170 180\n",
      " 190]\n",
      "[1e-12, 1e-09, 1e-06, 0.001, 1.0]\n",
      "[1e-12, 1e-09, 1e-06, 0.001, 1.0]\n",
      "Searching Hyperparameters...\n",
      "Trying RandomizedSearchCV\n",
      "Fitting 3 folds for each of 6 candidates, totalling 18 fits\n",
      "[CV] regularization=1e-06, num_factors=10, linear_regularization=1e-12 \n",
      "Converting to sf_ui\n",
      "Time Elapsed 0:00:03.331906\n",
      "Fitting\n"
     ]
    },
    {
     "data": {
      "text/html": [
       "<pre>Recsys training: model = ranking_factorization_recommender</pre>"
      ],
      "text/plain": [
       "Recsys training: model = ranking_factorization_recommender"
      ]
     },
     "metadata": {},
     "output_type": "display_data"
    },
    {
     "name": "stdout",
     "output_type": "stream",
     "text": [
      "Time Elapsed 0:00:42.993298\n",
      "[CV]  regularization=1e-06, num_factors=10, linear_regularization=1e-12, score=0.0192059970221, total= 1.3min\n",
      "[CV] regularization=1e-06, num_factors=10, linear_regularization=1e-12 \n",
      "Converting to sf_ui\n"
     ]
    },
    {
     "name": "stderr",
     "output_type": "stream",
     "text": [
      "[Parallel(n_jobs=1)]: Done   1 out of   1 | elapsed:  2.1min remaining:    0.0s\n"
     ]
    },
    {
     "name": "stdout",
     "output_type": "stream",
     "text": [
      "Time Elapsed 0:00:03.343062\n",
      "Fitting\n"
     ]
    },
    {
     "data": {
      "text/html": [
       "<pre>Recsys training: model = ranking_factorization_recommender</pre>"
      ],
      "text/plain": [
       "Recsys training: model = ranking_factorization_recommender"
      ]
     },
     "metadata": {},
     "output_type": "display_data"
    },
    {
     "name": "stdout",
     "output_type": "stream",
     "text": [
      "Time Elapsed 0:00:40.063346\n",
      "[CV]  regularization=1e-06, num_factors=10, linear_regularization=1e-12, score=0.0193198197863, total= 1.3min\n",
      "[CV] regularization=1e-06, num_factors=10, linear_regularization=1e-12 \n",
      "Converting to sf_ui\n"
     ]
    },
    {
     "name": "stderr",
     "output_type": "stream",
     "text": [
      "[Parallel(n_jobs=1)]: Done   2 out of   2 | elapsed:  4.1min remaining:    0.0s\n"
     ]
    },
    {
     "name": "stdout",
     "output_type": "stream",
     "text": [
      "Time Elapsed 0:00:03.170337\n",
      "Fitting\n"
     ]
    },
    {
     "data": {
      "text/html": [
       "<pre>Recsys training: model = ranking_factorization_recommender</pre>"
      ],
      "text/plain": [
       "Recsys training: model = ranking_factorization_recommender"
      ]
     },
     "metadata": {},
     "output_type": "display_data"
    },
    {
     "name": "stdout",
     "output_type": "stream",
     "text": [
      "Time Elapsed 0:00:39.970312\n",
      "[CV]  regularization=1e-06, num_factors=10, linear_regularization=1e-12, score=0.0190124834374, total= 1.3min\n",
      "[CV] regularization=0.001, num_factors=10, linear_regularization=1.0 .\n"
     ]
    },
    {
     "name": "stderr",
     "output_type": "stream",
     "text": [
      "[Parallel(n_jobs=1)]: Done   3 out of   3 | elapsed:  6.2min remaining:    0.0s\n"
     ]
    },
    {
     "name": "stdout",
     "output_type": "stream",
     "text": [
      "Converting to sf_ui\n",
      "Time Elapsed 0:00:03.283270\n",
      "Fitting\n"
     ]
    },
    {
     "data": {
      "text/html": [
       "<pre>Recsys training: model = ranking_factorization_recommender</pre>"
      ],
      "text/plain": [
       "Recsys training: model = ranking_factorization_recommender"
      ]
     },
     "metadata": {},
     "output_type": "display_data"
    },
    {
     "name": "stdout",
     "output_type": "stream",
     "text": [
      "Time Elapsed 0:00:40.053476\n",
      "[CV]  regularization=0.001, num_factors=10, linear_regularization=1.0, score=0.0194163257689, total= 1.3min\n",
      "[CV] regularization=0.001, num_factors=10, linear_regularization=1.0 .\n"
     ]
    },
    {
     "name": "stderr",
     "output_type": "stream",
     "text": [
      "[Parallel(n_jobs=1)]: Done   4 out of   4 | elapsed:  8.2min remaining:    0.0s\n"
     ]
    },
    {
     "name": "stdout",
     "output_type": "stream",
     "text": [
      "Converting to sf_ui\n",
      "Time Elapsed 0:00:03.413222\n",
      "Fitting\n"
     ]
    },
    {
     "data": {
      "text/html": [
       "<pre>Recsys training: model = ranking_factorization_recommender</pre>"
      ],
      "text/plain": [
       "Recsys training: model = ranking_factorization_recommender"
      ]
     },
     "metadata": {},
     "output_type": "display_data"
    },
    {
     "name": "stdout",
     "output_type": "stream",
     "text": [
      "Time Elapsed 0:00:41.021356\n",
      "[CV]  regularization=0.001, num_factors=10, linear_regularization=1.0, score=0.0191616532706, total= 1.3min\n",
      "[CV] regularization=0.001, num_factors=10, linear_regularization=1.0 .\n",
      "Converting to sf_ui\n"
     ]
    },
    {
     "name": "stderr",
     "output_type": "stream",
     "text": [
      "[Parallel(n_jobs=1)]: Done   5 out of   5 | elapsed: 10.2min remaining:    0.0s\n"
     ]
    },
    {
     "name": "stdout",
     "output_type": "stream",
     "text": [
      "Time Elapsed 0:00:03.142147\n",
      "Fitting\n"
     ]
    },
    {
     "data": {
      "text/html": [
       "<pre>Recsys training: model = ranking_factorization_recommender</pre>"
      ],
      "text/plain": [
       "Recsys training: model = ranking_factorization_recommender"
      ]
     },
     "metadata": {},
     "output_type": "display_data"
    },
    {
     "name": "stdout",
     "output_type": "stream",
     "text": [
      "Time Elapsed 0:00:42.372110\n",
      "[CV]  regularization=0.001, num_factors=10, linear_regularization=1.0, score=0.0205060612474, total= 1.3min\n",
      "[CV] regularization=1e-06, num_factors=190, linear_regularization=1e-09 \n"
     ]
    },
    {
     "name": "stderr",
     "output_type": "stream",
     "text": [
      "[Parallel(n_jobs=1)]: Done   6 out of   6 | elapsed: 12.3min remaining:    0.0s\n"
     ]
    },
    {
     "name": "stdout",
     "output_type": "stream",
     "text": [
      "Converting to sf_ui\n",
      "Time Elapsed 0:00:03.360441\n",
      "Fitting\n"
     ]
    },
    {
     "data": {
      "text/html": [
       "<pre>Recsys training: model = ranking_factorization_recommender</pre>"
      ],
      "text/plain": [
       "Recsys training: model = ranking_factorization_recommender"
      ]
     },
     "metadata": {},
     "output_type": "display_data"
    },
    {
     "name": "stdout",
     "output_type": "stream",
     "text": [
      "Time Elapsed 0:00:41.221706\n",
      "[CV]  regularization=1e-06, num_factors=190, linear_regularization=1e-09, score=0.0183426341916, total= 1.3min\n",
      "[CV] regularization=1e-06, num_factors=190, linear_regularization=1e-09 \n"
     ]
    },
    {
     "name": "stderr",
     "output_type": "stream",
     "text": [
      "[Parallel(n_jobs=1)]: Done   7 out of   7 | elapsed: 14.4min remaining:    0.0s\n"
     ]
    },
    {
     "name": "stdout",
     "output_type": "stream",
     "text": [
      "Converting to sf_ui\n",
      "Time Elapsed 0:00:03.610808\n",
      "Fitting\n"
     ]
    },
    {
     "data": {
      "text/html": [
       "<pre>Recsys training: model = ranking_factorization_recommender</pre>"
      ],
      "text/plain": [
       "Recsys training: model = ranking_factorization_recommender"
      ]
     },
     "metadata": {},
     "output_type": "display_data"
    },
    {
     "name": "stdout",
     "output_type": "stream",
     "text": [
      "Time Elapsed 0:00:41.674737\n",
      "[CV]  regularization=1e-06, num_factors=190, linear_regularization=1e-09, score=0.0191784958315, total= 1.3min\n",
      "[CV] regularization=1e-06, num_factors=190, linear_regularization=1e-09 \n"
     ]
    },
    {
     "name": "stderr",
     "output_type": "stream",
     "text": [
      "[Parallel(n_jobs=1)]: Done   8 out of   8 | elapsed: 16.6min remaining:    0.0s\n"
     ]
    },
    {
     "name": "stdout",
     "output_type": "stream",
     "text": [
      "Converting to sf_ui\n",
      "Time Elapsed 0:00:03.583127\n",
      "Fitting\n"
     ]
    },
    {
     "data": {
      "text/html": [
       "<pre>Recsys training: model = ranking_factorization_recommender</pre>"
      ],
      "text/plain": [
       "Recsys training: model = ranking_factorization_recommender"
      ]
     },
     "metadata": {},
     "output_type": "display_data"
    },
    {
     "name": "stdout",
     "output_type": "stream",
     "text": [
      "Time Elapsed 0:00:45.021871\n",
      "[CV]  regularization=1e-06, num_factors=190, linear_regularization=1e-09, score=0.0185524239328, total= 1.4min\n",
      "[CV] regularization=1.0, num_factors=160, linear_regularization=0.001 \n"
     ]
    },
    {
     "name": "stderr",
     "output_type": "stream",
     "text": [
      "[Parallel(n_jobs=1)]: Done   9 out of   9 | elapsed: 18.8min remaining:    0.0s\n"
     ]
    },
    {
     "name": "stdout",
     "output_type": "stream",
     "text": [
      "Converting to sf_ui\n",
      "Time Elapsed 0:00:03.591791\n",
      "Fitting\n"
     ]
    },
    {
     "data": {
      "text/html": [
       "<pre>Recsys training: model = ranking_factorization_recommender</pre>"
      ],
      "text/plain": [
       "Recsys training: model = ranking_factorization_recommender"
      ]
     },
     "metadata": {},
     "output_type": "display_data"
    },
    {
     "name": "stdout",
     "output_type": "stream",
     "text": [
      "Time Elapsed 0:00:42.033486\n",
      "[CV]  regularization=1.0, num_factors=160, linear_regularization=0.001, score=0.0182708236436, total= 1.3min\n",
      "[CV] regularization=1.0, num_factors=160, linear_regularization=0.001 \n",
      "Converting to sf_ui\n",
      "Time Elapsed 0:00:03.259309\n",
      "Fitting\n"
     ]
    },
    {
     "data": {
      "text/html": [
       "<pre>Recsys training: model = ranking_factorization_recommender</pre>"
      ],
      "text/plain": [
       "Recsys training: model = ranking_factorization_recommender"
      ]
     },
     "metadata": {},
     "output_type": "display_data"
    },
    {
     "name": "stdout",
     "output_type": "stream",
     "text": [
      "Time Elapsed 0:00:46.159897\n",
      "[CV]  regularization=1.0, num_factors=160, linear_regularization=0.001, score=0.0178682690118, total= 1.4min\n",
      "[CV] regularization=1.0, num_factors=160, linear_regularization=0.001 \n",
      "Converting to sf_ui\n",
      "Time Elapsed 0:00:03.258686\n",
      "Fitting\n"
     ]
    },
    {
     "data": {
      "text/html": [
       "<pre>Recsys training: model = ranking_factorization_recommender</pre>"
      ],
      "text/plain": [
       "Recsys training: model = ranking_factorization_recommender"
      ]
     },
     "metadata": {},
     "output_type": "display_data"
    },
    {
     "name": "stdout",
     "output_type": "stream",
     "text": [
      "Time Elapsed 0:00:40.389448\n",
      "[CV]  regularization=1.0, num_factors=160, linear_regularization=0.001, score=0.0194613343335, total= 1.3min\n",
      "[CV] regularization=1.0, num_factors=40, linear_regularization=0.001 .\n",
      "Converting to sf_ui\n",
      "Time Elapsed 0:00:03.261965\n",
      "Fitting\n"
     ]
    },
    {
     "data": {
      "text/html": [
       "<pre>Recsys training: model = ranking_factorization_recommender</pre>"
      ],
      "text/plain": [
       "Recsys training: model = ranking_factorization_recommender"
      ]
     },
     "metadata": {},
     "output_type": "display_data"
    },
    {
     "name": "stdout",
     "output_type": "stream",
     "text": [
      "Time Elapsed 0:00:40.404054\n",
      "[CV]  regularization=1.0, num_factors=40, linear_regularization=0.001, score=0.0193659765826, total= 1.3min\n",
      "[CV] regularization=1.0, num_factors=40, linear_regularization=0.001 .\n",
      "Converting to sf_ui\n",
      "Time Elapsed 0:00:03.449206\n",
      "Fitting\n"
     ]
    },
    {
     "data": {
      "text/html": [
       "<pre>Recsys training: model = ranking_factorization_recommender</pre>"
      ],
      "text/plain": [
       "Recsys training: model = ranking_factorization_recommender"
      ]
     },
     "metadata": {},
     "output_type": "display_data"
    },
    {
     "name": "stdout",
     "output_type": "stream",
     "text": [
      "Time Elapsed 0:00:41.170608\n",
      "[CV]  regularization=1.0, num_factors=40, linear_regularization=0.001, score=0.0186017851651, total= 1.3min\n",
      "[CV] regularization=1.0, num_factors=40, linear_regularization=0.001 .\n",
      "Converting to sf_ui\n",
      "Time Elapsed 0:00:03.154908\n",
      "Fitting\n"
     ]
    },
    {
     "data": {
      "text/html": [
       "<pre>Recsys training: model = ranking_factorization_recommender</pre>"
      ],
      "text/plain": [
       "Recsys training: model = ranking_factorization_recommender"
      ]
     },
     "metadata": {},
     "output_type": "display_data"
    },
    {
     "name": "stdout",
     "output_type": "stream",
     "text": [
      "Time Elapsed 0:00:40.892441\n",
      "[CV]  regularization=1.0, num_factors=40, linear_regularization=0.001, score=0.0201811204007, total= 1.3min\n",
      "[CV] regularization=1.0, num_factors=30, linear_regularization=1e-06 .\n",
      "Converting to sf_ui\n",
      "Time Elapsed 0:00:03.246498\n",
      "Fitting\n"
     ]
    },
    {
     "data": {
      "text/html": [
       "<pre>Recsys training: model = ranking_factorization_recommender</pre>"
      ],
      "text/plain": [
       "Recsys training: model = ranking_factorization_recommender"
      ]
     },
     "metadata": {},
     "output_type": "display_data"
    },
    {
     "name": "stdout",
     "output_type": "stream",
     "text": [
      "Time Elapsed 0:00:46.149446\n",
      "[CV]  regularization=1.0, num_factors=30, linear_regularization=1e-06, score=0.0184989058452, total= 1.4min\n",
      "[CV] regularization=1.0, num_factors=30, linear_regularization=1e-06 .\n",
      "Converting to sf_ui\n",
      "Time Elapsed 0:00:03.297131\n",
      "Fitting\n"
     ]
    },
    {
     "data": {
      "text/html": [
       "<pre>Recsys training: model = ranking_factorization_recommender</pre>"
      ],
      "text/plain": [
       "Recsys training: model = ranking_factorization_recommender"
      ]
     },
     "metadata": {},
     "output_type": "display_data"
    },
    {
     "name": "stdout",
     "output_type": "stream",
     "text": [
      "Time Elapsed 0:00:42.989400\n",
      "[CV]  regularization=1.0, num_factors=30, linear_regularization=1e-06, score=0.0188303249363, total= 1.3min\n",
      "[CV] regularization=1.0, num_factors=30, linear_regularization=1e-06 .\n",
      "Converting to sf_ui\n",
      "Time Elapsed 0:00:03.301330\n",
      "Fitting\n"
     ]
    },
    {
     "data": {
      "text/html": [
       "<pre>Recsys training: model = ranking_factorization_recommender</pre>"
      ],
      "text/plain": [
       "Recsys training: model = ranking_factorization_recommender"
      ]
     },
     "metadata": {},
     "output_type": "display_data"
    },
    {
     "name": "stdout",
     "output_type": "stream",
     "text": [
      "Time Elapsed 0:00:39.731651\n",
      "[CV]  regularization=1.0, num_factors=30, linear_regularization=1e-06, score=0.020402686688, total= 1.3min\n",
      "Converting to sf_ui\n"
     ]
    },
    {
     "name": "stderr",
     "output_type": "stream",
     "text": [
      "[Parallel(n_jobs=1)]: Done  18 out of  18 | elapsed: 37.4min finished\n"
     ]
    },
    {
     "name": "stdout",
     "output_type": "stream",
     "text": [
      "Time Elapsed 0:00:04.860479\n",
      "Fitting\n"
     ]
    },
    {
     "data": {
      "text/html": [
       "<pre>Recsys training: model = ranking_factorization_recommender</pre>"
      ],
      "text/plain": [
       "Recsys training: model = ranking_factorization_recommender"
      ]
     },
     "metadata": {},
     "output_type": "display_data"
    },
    {
     "name": "stdout",
     "output_type": "stream",
     "text": [
      "Time Elapsed 0:00:58.244592\n",
      "Time Elapsed: 0:38:22.793425\n",
      "Best Parameters: {'regularization': 0.001, 'num_factors': 10, 'linear_regularization': 1.0}\n",
      "Best Mean Cross-validated f1: 0.0196946800956\n",
      "\n",
      "Training model with the best hyperparameters...\n",
      "Converting to sf_ui\n",
      "Time Elapsed 0:00:04.926865\n",
      "Fitting\n"
     ]
    },
    {
     "data": {
      "text/html": [
       "<pre>Recsys training: model = ranking_factorization_recommender</pre>"
      ],
      "text/plain": [
       "Recsys training: model = ranking_factorization_recommender"
      ]
     },
     "metadata": {},
     "output_type": "display_data"
    },
    {
     "name": "stdout",
     "output_type": "stream",
     "text": [
      "Time Elapsed 0:01:02.262923\n",
      "Saving model to: /data2/pneupane/study_topics/CF//model/model_recommend_boolean_target\n",
      "Time Elapsed: 0:01:02.972064\n"
     ]
    }
   ],
   "source": [
    "### define parameters, and train the model\n",
    "\n",
    "# Define user/item features\n",
    "df = train\n",
    "\n",
    "user_col = 'userId'\n",
    "item_col = 'movieId'\n",
    "ratings_col = 'rating_bin'\n",
    "k=20\n",
    "\n",
    "# Define parameters for gridsearch\n",
    "n_splits = 3  # k-fold\n",
    "n_iter = 6  # RandomizedGridSearch n_iter\n",
    "\n",
    "if True:\n",
    "    num_factors_values = np.arange(10, 200, 10)\n",
    "    regularization_values = [1e-12*(10**k) for k in range(0,13,3)]\n",
    "    linear_regularization_values = [1e-12*(10**k) for k in range(0,13,3)]\n",
    "\n",
    "# Change this to True, to quickly check the process\n",
    "if False:\n",
    "    num_factors_values = [30]\n",
    "    regularization_values = [1e-9]\n",
    "    linear_regularization_values = [1e-9]\n",
    "\n",
    "\n",
    "param_grid = {\n",
    "    'num_factors':num_factors_values,\n",
    "    'regularization':regularization_values,\n",
    "    'linear_regularization':linear_regularization_values,\n",
    "}\n",
    "\n",
    "print(num_factors_values)\n",
    "print(regularization_values) \n",
    "print(linear_regularization_values)\n",
    "\n",
    "model = train_final_model(df, user_col, item_col, ratings_col,k,\n",
    "                              param_grid, \n",
    "                              n_splits, n_iter,\n",
    "                              partition=None)\n",
    "\n",
    "\n",
    "\n",
    "\n"
   ]
  },
  {
   "cell_type": "code",
   "execution_count": 28,
   "metadata": {},
   "outputs": [
    {
     "data": {
      "text/html": [
       "<pre>Recsys training: model = ranking_factorization_recommender</pre>"
      ],
      "text/plain": [
       "Recsys training: model = ranking_factorization_recommender"
      ]
     },
     "metadata": {},
     "output_type": "display_data"
    },
    {
     "name": "stdout",
     "output_type": "stream",
     "text": [
      "Time Elapsed: 0:09:20.352111\n"
     ]
    }
   ],
   "source": [
    "### Run stand-alone training for baseline & quick checks\n",
    "start_time = datetime.now()\n",
    "model = tc.ranking_factorization_recommender.create(observation_data=tc.SFrame(train),\n",
    "                                                         user_id='userId',\n",
    "                                                         item_id='movieId',\n",
    "                                                         target = 'rating_bin',\n",
    "                                                         verbose=False,\n",
    "                                                         num_factors=180,\n",
    "                                                         regularization = 1,\n",
    "                                                         linear_regularization=1,\n",
    "                                                         binary_target=True\n",
    "                                                        )\n",
    "print('Time Elapsed: {0}'.format(datetime.now() - start_time))"
   ]
  },
  {
   "cell_type": "markdown",
   "metadata": {},
   "source": [
    "## 4. Evaluate the model\n",
    "Use randomly generated test dataset to train the gridsearch model "
   ]
  },
  {
   "cell_type": "code",
   "execution_count": 82,
   "metadata": {},
   "outputs": [
    {
     "data": {
      "text/html": [
       "<div>\n",
       "<style scoped>\n",
       "    .dataframe tbody tr th:only-of-type {\n",
       "        vertical-align: middle;\n",
       "    }\n",
       "\n",
       "    .dataframe tbody tr th {\n",
       "        vertical-align: top;\n",
       "    }\n",
       "\n",
       "    .dataframe thead th {\n",
       "        text-align: right;\n",
       "    }\n",
       "</style>\n",
       "<table border=\"1\" class=\"dataframe\">\n",
       "  <thead>\n",
       "    <tr style=\"text-align: right;\">\n",
       "      <th></th>\n",
       "      <th>cutoff</th>\n",
       "      <th>precision</th>\n",
       "      <th>recall</th>\n",
       "    </tr>\n",
       "  </thead>\n",
       "  <tbody>\n",
       "    <tr>\n",
       "      <th>0</th>\n",
       "      <td>1</td>\n",
       "      <td>0.01</td>\n",
       "      <td>0.00</td>\n",
       "    </tr>\n",
       "    <tr>\n",
       "      <th>1</th>\n",
       "      <td>2</td>\n",
       "      <td>0.01</td>\n",
       "      <td>0.01</td>\n",
       "    </tr>\n",
       "    <tr>\n",
       "      <th>2</th>\n",
       "      <td>3</td>\n",
       "      <td>0.01</td>\n",
       "      <td>0.01</td>\n",
       "    </tr>\n",
       "    <tr>\n",
       "      <th>3</th>\n",
       "      <td>4</td>\n",
       "      <td>0.01</td>\n",
       "      <td>0.01</td>\n",
       "    </tr>\n",
       "    <tr>\n",
       "      <th>4</th>\n",
       "      <td>5</td>\n",
       "      <td>0.01</td>\n",
       "      <td>0.02</td>\n",
       "    </tr>\n",
       "    <tr>\n",
       "      <th>5</th>\n",
       "      <td>6</td>\n",
       "      <td>0.01</td>\n",
       "      <td>0.02</td>\n",
       "    </tr>\n",
       "    <tr>\n",
       "      <th>6</th>\n",
       "      <td>7</td>\n",
       "      <td>0.01</td>\n",
       "      <td>0.02</td>\n",
       "    </tr>\n",
       "    <tr>\n",
       "      <th>7</th>\n",
       "      <td>8</td>\n",
       "      <td>0.01</td>\n",
       "      <td>0.03</td>\n",
       "    </tr>\n",
       "    <tr>\n",
       "      <th>8</th>\n",
       "      <td>9</td>\n",
       "      <td>0.01</td>\n",
       "      <td>0.03</td>\n",
       "    </tr>\n",
       "    <tr>\n",
       "      <th>9</th>\n",
       "      <td>10</td>\n",
       "      <td>0.01</td>\n",
       "      <td>0.03</td>\n",
       "    </tr>\n",
       "    <tr>\n",
       "      <th>10</th>\n",
       "      <td>11</td>\n",
       "      <td>0.01</td>\n",
       "      <td>0.04</td>\n",
       "    </tr>\n",
       "    <tr>\n",
       "      <th>11</th>\n",
       "      <td>16</td>\n",
       "      <td>0.01</td>\n",
       "      <td>0.05</td>\n",
       "    </tr>\n",
       "    <tr>\n",
       "      <th>12</th>\n",
       "      <td>21</td>\n",
       "      <td>0.01</td>\n",
       "      <td>0.07</td>\n",
       "    </tr>\n",
       "    <tr>\n",
       "      <th>13</th>\n",
       "      <td>26</td>\n",
       "      <td>0.01</td>\n",
       "      <td>0.08</td>\n",
       "    </tr>\n",
       "    <tr>\n",
       "      <th>14</th>\n",
       "      <td>31</td>\n",
       "      <td>0.01</td>\n",
       "      <td>0.09</td>\n",
       "    </tr>\n",
       "    <tr>\n",
       "      <th>15</th>\n",
       "      <td>36</td>\n",
       "      <td>0.01</td>\n",
       "      <td>0.10</td>\n",
       "    </tr>\n",
       "    <tr>\n",
       "      <th>16</th>\n",
       "      <td>41</td>\n",
       "      <td>0.00</td>\n",
       "      <td>0.11</td>\n",
       "    </tr>\n",
       "    <tr>\n",
       "      <th>17</th>\n",
       "      <td>46</td>\n",
       "      <td>0.00</td>\n",
       "      <td>0.11</td>\n",
       "    </tr>\n",
       "  </tbody>\n",
       "</table>\n",
       "</div>"
      ],
      "text/plain": [
       "    cutoff            precision               recall\n",
       "0        1                 0.01                 0.00\n",
       "1        2                 0.01                 0.01\n",
       "2        3                 0.01                 0.01\n",
       "3        4                 0.01                 0.01\n",
       "4        5                 0.01                 0.02\n",
       "5        6                 0.01                 0.02\n",
       "6        7                 0.01                 0.02\n",
       "7        8                 0.01                 0.03\n",
       "8        9                 0.01                 0.03\n",
       "9       10                 0.01                 0.03\n",
       "10      11                 0.01                 0.04\n",
       "11      16                 0.01                 0.05\n",
       "12      21                 0.01                 0.07\n",
       "13      26                 0.01                 0.08\n",
       "14      31                 0.01                 0.09\n",
       "15      36                 0.01                 0.10\n",
       "16      41                 0.00                 0.11\n",
       "17      46                 0.00                 0.11"
      ]
     },
     "metadata": {},
     "output_type": "display_data"
    }
   ],
   "source": [
    "eval_test = model.evaluate_precision_recall(tc.SFrame(test),verbose=False)\n",
    "\n",
    "display(eval_test.values()[0].to_dataframe())"
   ]
  },
  {
   "cell_type": "code",
   "execution_count": 83,
   "metadata": {},
   "outputs": [
    {
     "data": {
      "image/png": "[encoded data removed]",
      "text/plain": [
       "<matplotlib.figure.Figure at 0x7ff4c587bcd0>"
      ]
     },
     "metadata": {},
     "output_type": "display_data"
    },
    {
     "name": "stdout",
     "output_type": "stream",
     "text": [
      "ROC curve (area = 0.7011012025041815)\n"
     ]
    },
    {
     "data": {
      "text/plain": [
       "None"
      ]
     },
     "metadata": {},
     "output_type": "display_data"
    }
   ],
   "source": [
    "### Plot ROC curve/AUC for prediction score ###\n",
    "test1 = test.copy()\n",
    "test1['predict'] = model.predict(tc.SFrame(test))\n",
    "\n",
    "fpr = dict()\n",
    "tpr = dict()\n",
    "\n",
    "roc_auc = dict()\n",
    "for i in range(2):\n",
    "    fpr[i], tpr[i], _ = roc_curve(test1.rating_bin, test1.predict)\n",
    "    roc_auc[i] = auc(fpr[i], tpr[i])\n",
    "\n",
    "#print(roc_auc(test, pred))\n",
    "\n",
    "plt.figure()\n",
    "lw=2\n",
    "plt.plot(fpr[1], tpr[1],color='darkorange',label='ROC curve (area = '+str(roc_auc[1])+')')\n",
    "plt.plot([0, 1], [0, 1], color='navy', lw=lw, linestyle='--')\n",
    "plt.xlim([0.0, 1.0])\n",
    "plt.ylim([0.0, 1.05])\n",
    "plt.xlabel('False Positive Rate')\n",
    "plt.ylabel('True Positive Rate')\n",
    "plt.title('Receiver operating characteristic')\n",
    "plt.show()\n",
    "display(print('ROC curve (area = '+str(roc_auc[1])+')'))"
   ]
  },
  {
   "cell_type": "code",
   "execution_count": null,
   "metadata": {},
   "outputs": [],
   "source": []
  },
  {
   "cell_type": "code",
   "execution_count": 99,
   "metadata": {},
   "outputs": [
    {
     "name": "stdout",
     "output_type": "stream",
     "text": [
      "User selected:  87267\n"
     ]
    },
    {
     "data": {
      "text/plain": [
       "None"
      ]
     },
     "metadata": {},
     "output_type": "display_data"
    },
    {
     "name": "stdout",
     "output_type": "stream",
     "text": [
      "item count for this user in test:  479\n"
     ]
    },
    {
     "data": {
      "text/plain": [
       "None"
      ]
     },
     "metadata": {},
     "output_type": "display_data"
    },
    {
     "data": {
      "text/html": [
       "<div>\n",
       "<style scoped>\n",
       "    .dataframe tbody tr th:only-of-type {\n",
       "        vertical-align: middle;\n",
       "    }\n",
       "\n",
       "    .dataframe tbody tr th {\n",
       "        vertical-align: top;\n",
       "    }\n",
       "\n",
       "    .dataframe thead th {\n",
       "        text-align: right;\n",
       "    }\n",
       "</style>\n",
       "<table border=\"1\" class=\"dataframe\">\n",
       "  <thead>\n",
       "    <tr style=\"text-align: right;\">\n",
       "      <th></th>\n",
       "      <th>title</th>\n",
       "      <th>genres</th>\n",
       "      <th>rating</th>\n",
       "      <th>title_recom</th>\n",
       "      <th>genres_recom</th>\n",
       "      <th>rank_recom</th>\n",
       "    </tr>\n",
       "  </thead>\n",
       "  <tbody>\n",
       "    <tr>\n",
       "      <th>0</th>\n",
       "      <td>Moon (2009)</td>\n",
       "      <td>Drama|Mystery|Sci-Fi|Thriller</td>\n",
       "      <td>5.00</td>\n",
       "      <td>Star Wars: Episode VI - Return of the Jedi (1983)</td>\n",
       "      <td>Action|Adventure|Sci-Fi</td>\n",
       "      <td>1.00</td>\n",
       "    </tr>\n",
       "    <tr>\n",
       "      <th>1</th>\n",
       "      <td>Princess Bride, The (1987)</td>\n",
       "      <td>Action|Adventure|Comedy|Fantasy|Romance</td>\n",
       "      <td>5.00</td>\n",
       "      <td>Fifth Element, The (1997)</td>\n",
       "      <td>Action|Adventure|Comedy|Sci-Fi</td>\n",
       "      <td>2.00</td>\n",
       "    </tr>\n",
       "    <tr>\n",
       "      <th>2</th>\n",
       "      <td>Short Circuit (1986)</td>\n",
       "      <td>Comedy|Sci-Fi</td>\n",
       "      <td>5.00</td>\n",
       "      <td>Ghostbusters (a.k.a. Ghost Busters) (1984)</td>\n",
       "      <td>Action|Comedy|Sci-Fi</td>\n",
       "      <td>3.00</td>\n",
       "    </tr>\n",
       "    <tr>\n",
       "      <th>3</th>\n",
       "      <td>Christmas Story, A (1983)</td>\n",
       "      <td>Children|Comedy</td>\n",
       "      <td>5.00</td>\n",
       "      <td>Terminator 2: Judgment Day (1991)</td>\n",
       "      <td>Action|Sci-Fi</td>\n",
       "      <td>4.00</td>\n",
       "    </tr>\n",
       "    <tr>\n",
       "      <th>4</th>\n",
       "      <td>Hangover, The (2009)</td>\n",
       "      <td>Comedy|Crime</td>\n",
       "      <td>5.00</td>\n",
       "      <td>Finding Nemo (2003)</td>\n",
       "      <td>Adventure|Animation|Children|Comedy</td>\n",
       "      <td>5.00</td>\n",
       "    </tr>\n",
       "    <tr>\n",
       "      <th>5</th>\n",
       "      <td>Kiss Kiss Bang Bang (2005)</td>\n",
       "      <td>Comedy|Crime|Mystery|Thriller</td>\n",
       "      <td>5.00</td>\n",
       "      <td>Lord of the Rings: The Return of the King, The...</td>\n",
       "      <td>Action|Adventure|Drama|Fantasy</td>\n",
       "      <td>6.00</td>\n",
       "    </tr>\n",
       "    <tr>\n",
       "      <th>6</th>\n",
       "      <td>Star Trek IV: The Voyage Home (1986)</td>\n",
       "      <td>Adventure|Comedy|Sci-Fi</td>\n",
       "      <td>5.00</td>\n",
       "      <td>Willy Wonka &amp; the Chocolate Factory (1971)</td>\n",
       "      <td>Children|Comedy|Fantasy|Musical</td>\n",
       "      <td>7.00</td>\n",
       "    </tr>\n",
       "    <tr>\n",
       "      <th>7</th>\n",
       "      <td>Saving Private Ryan (1998)</td>\n",
       "      <td>Action|Drama|War</td>\n",
       "      <td>5.00</td>\n",
       "      <td>Raiders of the Lost Ark (Indiana Jones and the...</td>\n",
       "      <td>Action|Adventure</td>\n",
       "      <td>8.00</td>\n",
       "    </tr>\n",
       "    <tr>\n",
       "      <th>8</th>\n",
       "      <td>Men in Black (a.k.a. MIB) (1997)</td>\n",
       "      <td>Action|Comedy|Sci-Fi</td>\n",
       "      <td>5.00</td>\n",
       "      <td>Fight Club (1999)</td>\n",
       "      <td>Action|Crime|Drama|Thriller</td>\n",
       "      <td>9.00</td>\n",
       "    </tr>\n",
       "    <tr>\n",
       "      <th>9</th>\n",
       "      <td>Zoolander (2001)</td>\n",
       "      <td>Comedy</td>\n",
       "      <td>5.00</td>\n",
       "      <td>Eternal Sunshine of the Spotless Mind (2004)</td>\n",
       "      <td>Drama|Romance|Sci-Fi</td>\n",
       "      <td>10.00</td>\n",
       "    </tr>\n",
       "    <tr>\n",
       "      <th>10</th>\n",
       "      <td>Star Trek V: The Final Frontier (1989)</td>\n",
       "      <td>Action|Sci-Fi</td>\n",
       "      <td>5.00</td>\n",
       "      <td>Lord of the Rings: The Fellowship of the Ring,...</td>\n",
       "      <td>Adventure|Fantasy</td>\n",
       "      <td>11.00</td>\n",
       "    </tr>\n",
       "    <tr>\n",
       "      <th>11</th>\n",
       "      <td>Cast Away (2000)</td>\n",
       "      <td>Drama</td>\n",
       "      <td>5.00</td>\n",
       "      <td>Indiana Jones and the Last Crusade (1989)</td>\n",
       "      <td>Action|Adventure</td>\n",
       "      <td>12.00</td>\n",
       "    </tr>\n",
       "    <tr>\n",
       "      <th>12</th>\n",
       "      <td>Clerks (1994)</td>\n",
       "      <td>Comedy</td>\n",
       "      <td>5.00</td>\n",
       "      <td>Spaceballs (1987)</td>\n",
       "      <td>Comedy|Sci-Fi</td>\n",
       "      <td>13.00</td>\n",
       "    </tr>\n",
       "    <tr>\n",
       "      <th>13</th>\n",
       "      <td>Monty Python and the Holy Grail (1975)</td>\n",
       "      <td>Adventure|Comedy|Fantasy</td>\n",
       "      <td>5.00</td>\n",
       "      <td>Toy Story 2 (1999)</td>\n",
       "      <td>Adventure|Animation|Children|Comedy|Fantasy</td>\n",
       "      <td>14.00</td>\n",
       "    </tr>\n",
       "    <tr>\n",
       "      <th>14</th>\n",
       "      <td>Hannibal (2001)</td>\n",
       "      <td>Horror|Thriller</td>\n",
       "      <td>5.00</td>\n",
       "      <td>Star Wars: Episode V - The Empire Strikes Back...</td>\n",
       "      <td>Action|Adventure|Sci-Fi</td>\n",
       "      <td>15.00</td>\n",
       "    </tr>\n",
       "    <tr>\n",
       "      <th>15</th>\n",
       "      <td>Easy A (2010)</td>\n",
       "      <td>Comedy|Romance</td>\n",
       "      <td>5.00</td>\n",
       "      <td>Kill Bill: Vol. 1 (2003)</td>\n",
       "      <td>Action|Crime|Thriller</td>\n",
       "      <td>16.00</td>\n",
       "    </tr>\n",
       "    <tr>\n",
       "      <th>16</th>\n",
       "      <td>Truman Show, The (1998)</td>\n",
       "      <td>Comedy|Drama|Sci-Fi</td>\n",
       "      <td>5.00</td>\n",
       "      <td>Indiana Jones and the Temple of Doom (1984)</td>\n",
       "      <td>Action|Adventure|Fantasy</td>\n",
       "      <td>17.00</td>\n",
       "    </tr>\n",
       "    <tr>\n",
       "      <th>17</th>\n",
       "      <td>Diamonds Are Forever (1971)</td>\n",
       "      <td>Action|Adventure|Thriller</td>\n",
       "      <td>5.00</td>\n",
       "      <td>Shawshank Redemption, The (1994)</td>\n",
       "      <td>Crime|Drama</td>\n",
       "      <td>18.00</td>\n",
       "    </tr>\n",
       "    <tr>\n",
       "      <th>18</th>\n",
       "      <td>Batman Begins (2005)</td>\n",
       "      <td>Action|Crime|IMAX</td>\n",
       "      <td>5.00</td>\n",
       "      <td>Back to the Future Part III (1990)</td>\n",
       "      <td>Adventure|Comedy|Sci-Fi|Western</td>\n",
       "      <td>19.00</td>\n",
       "    </tr>\n",
       "    <tr>\n",
       "      <th>19</th>\n",
       "      <td>Catch Me If You Can (2002)</td>\n",
       "      <td>Crime|Drama</td>\n",
       "      <td>5.00</td>\n",
       "      <td>Army of Darkness (1993)</td>\n",
       "      <td>Action|Adventure|Comedy|Fantasy|Horror</td>\n",
       "      <td>20.00</td>\n",
       "    </tr>\n",
       "    <tr>\n",
       "      <th>20</th>\n",
       "      <td>Clerks II (2006)</td>\n",
       "      <td>Comedy</td>\n",
       "      <td>5.00</td>\n",
       "      <td>NaN</td>\n",
       "      <td>NaN</td>\n",
       "      <td>nan</td>\n",
       "    </tr>\n",
       "    <tr>\n",
       "      <th>21</th>\n",
       "      <td>Skyfall (2012)</td>\n",
       "      <td>Action|Adventure|Thriller|IMAX</td>\n",
       "      <td>5.00</td>\n",
       "      <td>NaN</td>\n",
       "      <td>NaN</td>\n",
       "      <td>nan</td>\n",
       "    </tr>\n",
       "    <tr>\n",
       "      <th>22</th>\n",
       "      <td>Jay and Silent Bob Strike Back (2001)</td>\n",
       "      <td>Adventure|Comedy</td>\n",
       "      <td>5.00</td>\n",
       "      <td>NaN</td>\n",
       "      <td>NaN</td>\n",
       "      <td>nan</td>\n",
       "    </tr>\n",
       "    <tr>\n",
       "      <th>23</th>\n",
       "      <td>South Park: Bigger, Longer and Uncut (1999)</td>\n",
       "      <td>Animation|Comedy|Musical</td>\n",
       "      <td>5.00</td>\n",
       "      <td>NaN</td>\n",
       "      <td>NaN</td>\n",
       "      <td>nan</td>\n",
       "    </tr>\n",
       "    <tr>\n",
       "      <th>24</th>\n",
       "      <td>Ghostbusters (a.k.a. Ghost Busters) (1984)</td>\n",
       "      <td>Action|Comedy|Sci-Fi</td>\n",
       "      <td>5.00</td>\n",
       "      <td>NaN</td>\n",
       "      <td>NaN</td>\n",
       "      <td>nan</td>\n",
       "    </tr>\n",
       "    <tr>\n",
       "      <th>25</th>\n",
       "      <td>GoldenEye (1995)</td>\n",
       "      <td>Action|Adventure|Thriller</td>\n",
       "      <td>5.00</td>\n",
       "      <td>NaN</td>\n",
       "      <td>NaN</td>\n",
       "      <td>nan</td>\n",
       "    </tr>\n",
       "    <tr>\n",
       "      <th>26</th>\n",
       "      <td>Pee-wee's Big Adventure (1985)</td>\n",
       "      <td>Adventure|Comedy</td>\n",
       "      <td>5.00</td>\n",
       "      <td>NaN</td>\n",
       "      <td>NaN</td>\n",
       "      <td>nan</td>\n",
       "    </tr>\n",
       "    <tr>\n",
       "      <th>27</th>\n",
       "      <td>Toy Story 3 (2010)</td>\n",
       "      <td>Adventure|Animation|Children|Comedy|Fantasy|IMAX</td>\n",
       "      <td>5.00</td>\n",
       "      <td>NaN</td>\n",
       "      <td>NaN</td>\n",
       "      <td>nan</td>\n",
       "    </tr>\n",
       "    <tr>\n",
       "      <th>28</th>\n",
       "      <td>Back to the Future (1985)</td>\n",
       "      <td>Adventure|Comedy|Sci-Fi</td>\n",
       "      <td>5.00</td>\n",
       "      <td>NaN</td>\n",
       "      <td>NaN</td>\n",
       "      <td>nan</td>\n",
       "    </tr>\n",
       "    <tr>\n",
       "      <th>29</th>\n",
       "      <td>Fight Club (1999)</td>\n",
       "      <td>Action|Crime|Drama|Thriller</td>\n",
       "      <td>5.00</td>\n",
       "      <td>NaN</td>\n",
       "      <td>NaN</td>\n",
       "      <td>nan</td>\n",
       "    </tr>\n",
       "    <tr>\n",
       "      <th>...</th>\n",
       "      <td>...</td>\n",
       "      <td>...</td>\n",
       "      <td>...</td>\n",
       "      <td>...</td>\n",
       "      <td>...</td>\n",
       "      <td>...</td>\n",
       "    </tr>\n",
       "    <tr>\n",
       "      <th>449</th>\n",
       "      <td>Jaws (1975)</td>\n",
       "      <td>Action|Horror</td>\n",
       "      <td>3.00</td>\n",
       "      <td>NaN</td>\n",
       "      <td>NaN</td>\n",
       "      <td>nan</td>\n",
       "    </tr>\n",
       "    <tr>\n",
       "      <th>450</th>\n",
       "      <td>Nutty Professor, The (1996)</td>\n",
       "      <td>Comedy|Fantasy|Romance|Sci-Fi</td>\n",
       "      <td>3.00</td>\n",
       "      <td>NaN</td>\n",
       "      <td>NaN</td>\n",
       "      <td>nan</td>\n",
       "    </tr>\n",
       "    <tr>\n",
       "      <th>451</th>\n",
       "      <td>Looper (2012)</td>\n",
       "      <td>Action|Crime|Sci-Fi</td>\n",
       "      <td>2.50</td>\n",
       "      <td>NaN</td>\n",
       "      <td>NaN</td>\n",
       "      <td>nan</td>\n",
       "    </tr>\n",
       "    <tr>\n",
       "      <th>452</th>\n",
       "      <td>Unbreakable (2000)</td>\n",
       "      <td>Drama|Sci-Fi</td>\n",
       "      <td>2.50</td>\n",
       "      <td>NaN</td>\n",
       "      <td>NaN</td>\n",
       "      <td>nan</td>\n",
       "    </tr>\n",
       "    <tr>\n",
       "      <th>453</th>\n",
       "      <td>G.I. Joe: The Rise of Cobra (2009)</td>\n",
       "      <td>Action|Adventure|Sci-Fi|Thriller</td>\n",
       "      <td>2.50</td>\n",
       "      <td>NaN</td>\n",
       "      <td>NaN</td>\n",
       "      <td>nan</td>\n",
       "    </tr>\n",
       "    <tr>\n",
       "      <th>454</th>\n",
       "      <td>Mighty Ducks, The (1992)</td>\n",
       "      <td>Children|Comedy</td>\n",
       "      <td>2.50</td>\n",
       "      <td>NaN</td>\n",
       "      <td>NaN</td>\n",
       "      <td>nan</td>\n",
       "    </tr>\n",
       "    <tr>\n",
       "      <th>455</th>\n",
       "      <td>Village, The (2004)</td>\n",
       "      <td>Drama|Mystery|Thriller</td>\n",
       "      <td>2.50</td>\n",
       "      <td>NaN</td>\n",
       "      <td>NaN</td>\n",
       "      <td>nan</td>\n",
       "    </tr>\n",
       "    <tr>\n",
       "      <th>456</th>\n",
       "      <td>Starship Troopers 2: Hero of the Federation (2...</td>\n",
       "      <td>Action|Horror|Sci-Fi|War</td>\n",
       "      <td>2.50</td>\n",
       "      <td>NaN</td>\n",
       "      <td>NaN</td>\n",
       "      <td>nan</td>\n",
       "    </tr>\n",
       "    <tr>\n",
       "      <th>457</th>\n",
       "      <td>God Bless America (2011)</td>\n",
       "      <td>Comedy|Drama</td>\n",
       "      <td>2.50</td>\n",
       "      <td>NaN</td>\n",
       "      <td>NaN</td>\n",
       "      <td>nan</td>\n",
       "    </tr>\n",
       "    <tr>\n",
       "      <th>458</th>\n",
       "      <td>Super Size Me (2004)</td>\n",
       "      <td>Comedy|Documentary|Drama</td>\n",
       "      <td>2.50</td>\n",
       "      <td>NaN</td>\n",
       "      <td>NaN</td>\n",
       "      <td>nan</td>\n",
       "    </tr>\n",
       "    <tr>\n",
       "      <th>459</th>\n",
       "      <td>Birds, The (1963)</td>\n",
       "      <td>Horror|Thriller</td>\n",
       "      <td>2.50</td>\n",
       "      <td>NaN</td>\n",
       "      <td>NaN</td>\n",
       "      <td>nan</td>\n",
       "    </tr>\n",
       "    <tr>\n",
       "      <th>460</th>\n",
       "      <td>Inglourious Basterds (2009)</td>\n",
       "      <td>Action|Drama|War</td>\n",
       "      <td>2.50</td>\n",
       "      <td>NaN</td>\n",
       "      <td>NaN</td>\n",
       "      <td>nan</td>\n",
       "    </tr>\n",
       "    <tr>\n",
       "      <th>461</th>\n",
       "      <td>Fast and the Furious, The (2001)</td>\n",
       "      <td>Action|Crime|Thriller</td>\n",
       "      <td>2.50</td>\n",
       "      <td>NaN</td>\n",
       "      <td>NaN</td>\n",
       "      <td>nan</td>\n",
       "    </tr>\n",
       "    <tr>\n",
       "      <th>462</th>\n",
       "      <td>Civil Action, A (1998)</td>\n",
       "      <td>Drama</td>\n",
       "      <td>2.50</td>\n",
       "      <td>NaN</td>\n",
       "      <td>NaN</td>\n",
       "      <td>nan</td>\n",
       "    </tr>\n",
       "    <tr>\n",
       "      <th>463</th>\n",
       "      <td>Interpreter, The (2005)</td>\n",
       "      <td>Drama|Thriller</td>\n",
       "      <td>2.50</td>\n",
       "      <td>NaN</td>\n",
       "      <td>NaN</td>\n",
       "      <td>nan</td>\n",
       "    </tr>\n",
       "    <tr>\n",
       "      <th>464</th>\n",
       "      <td>Million Dollar Baby (2004)</td>\n",
       "      <td>Drama</td>\n",
       "      <td>2.50</td>\n",
       "      <td>NaN</td>\n",
       "      <td>NaN</td>\n",
       "      <td>nan</td>\n",
       "    </tr>\n",
       "    <tr>\n",
       "      <th>465</th>\n",
       "      <td>E.T. the Extra-Terrestrial (1982)</td>\n",
       "      <td>Children|Drama|Sci-Fi</td>\n",
       "      <td>2.50</td>\n",
       "      <td>NaN</td>\n",
       "      <td>NaN</td>\n",
       "      <td>nan</td>\n",
       "    </tr>\n",
       "    <tr>\n",
       "      <th>466</th>\n",
       "      <td>Hancock (2008)</td>\n",
       "      <td>Action|Adventure|Comedy|Crime|Fantasy</td>\n",
       "      <td>2.50</td>\n",
       "      <td>NaN</td>\n",
       "      <td>NaN</td>\n",
       "      <td>nan</td>\n",
       "    </tr>\n",
       "    <tr>\n",
       "      <th>467</th>\n",
       "      <td>Mr. Deeds (2002)</td>\n",
       "      <td>Comedy|Romance</td>\n",
       "      <td>2.50</td>\n",
       "      <td>NaN</td>\n",
       "      <td>NaN</td>\n",
       "      <td>nan</td>\n",
       "    </tr>\n",
       "    <tr>\n",
       "      <th>468</th>\n",
       "      <td>Congo (1995)</td>\n",
       "      <td>Action|Adventure|Mystery|Sci-Fi</td>\n",
       "      <td>2.00</td>\n",
       "      <td>NaN</td>\n",
       "      <td>NaN</td>\n",
       "      <td>nan</td>\n",
       "    </tr>\n",
       "    <tr>\n",
       "      <th>469</th>\n",
       "      <td>Shaolin Soccer (Siu lam juk kau) (2001)</td>\n",
       "      <td>Action|Comedy</td>\n",
       "      <td>2.00</td>\n",
       "      <td>NaN</td>\n",
       "      <td>NaN</td>\n",
       "      <td>nan</td>\n",
       "    </tr>\n",
       "    <tr>\n",
       "      <th>470</th>\n",
       "      <td>Chicken Run (2000)</td>\n",
       "      <td>Animation|Children|Comedy</td>\n",
       "      <td>2.00</td>\n",
       "      <td>NaN</td>\n",
       "      <td>NaN</td>\n",
       "      <td>nan</td>\n",
       "    </tr>\n",
       "    <tr>\n",
       "      <th>471</th>\n",
       "      <td>Battlefield Earth (2000)</td>\n",
       "      <td>Action|Sci-Fi</td>\n",
       "      <td>2.00</td>\n",
       "      <td>NaN</td>\n",
       "      <td>NaN</td>\n",
       "      <td>nan</td>\n",
       "    </tr>\n",
       "    <tr>\n",
       "      <th>472</th>\n",
       "      <td>Scary Movie 2 (2001)</td>\n",
       "      <td>Comedy</td>\n",
       "      <td>2.00</td>\n",
       "      <td>NaN</td>\n",
       "      <td>NaN</td>\n",
       "      <td>nan</td>\n",
       "    </tr>\n",
       "    <tr>\n",
       "      <th>473</th>\n",
       "      <td>NeverEnding Story, The (1984)</td>\n",
       "      <td>Adventure|Children|Fantasy</td>\n",
       "      <td>2.00</td>\n",
       "      <td>NaN</td>\n",
       "      <td>NaN</td>\n",
       "      <td>nan</td>\n",
       "    </tr>\n",
       "    <tr>\n",
       "      <th>474</th>\n",
       "      <td>Bulletproof Monk (2003)</td>\n",
       "      <td>Action|Adventure|Sci-Fi</td>\n",
       "      <td>2.00</td>\n",
       "      <td>NaN</td>\n",
       "      <td>NaN</td>\n",
       "      <td>nan</td>\n",
       "    </tr>\n",
       "    <tr>\n",
       "      <th>475</th>\n",
       "      <td>King Kong (2005)</td>\n",
       "      <td>Action|Adventure|Drama|Fantasy|Thriller</td>\n",
       "      <td>1.50</td>\n",
       "      <td>NaN</td>\n",
       "      <td>NaN</td>\n",
       "      <td>nan</td>\n",
       "    </tr>\n",
       "    <tr>\n",
       "      <th>476</th>\n",
       "      <td>Passion of the Christ, The (2004)</td>\n",
       "      <td>Drama</td>\n",
       "      <td>1.50</td>\n",
       "      <td>NaN</td>\n",
       "      <td>NaN</td>\n",
       "      <td>nan</td>\n",
       "    </tr>\n",
       "    <tr>\n",
       "      <th>477</th>\n",
       "      <td>Seabiscuit (2003)</td>\n",
       "      <td>Drama</td>\n",
       "      <td>1.50</td>\n",
       "      <td>NaN</td>\n",
       "      <td>NaN</td>\n",
       "      <td>nan</td>\n",
       "    </tr>\n",
       "    <tr>\n",
       "      <th>478</th>\n",
       "      <td>Lost in Translation (2003)</td>\n",
       "      <td>Comedy|Drama|Romance</td>\n",
       "      <td>1.00</td>\n",
       "      <td>NaN</td>\n",
       "      <td>NaN</td>\n",
       "      <td>nan</td>\n",
       "    </tr>\n",
       "  </tbody>\n",
       "</table>\n",
       "<p>479 rows × 6 columns</p>\n",
       "</div>"
      ],
      "text/plain": [
       "                                                 title  \\\n",
       "0                                          Moon (2009)   \n",
       "1                           Princess Bride, The (1987)   \n",
       "2                                 Short Circuit (1986)   \n",
       "3                            Christmas Story, A (1983)   \n",
       "4                                 Hangover, The (2009)   \n",
       "5                           Kiss Kiss Bang Bang (2005)   \n",
       "6                 Star Trek IV: The Voyage Home (1986)   \n",
       "7                           Saving Private Ryan (1998)   \n",
       "8                     Men in Black (a.k.a. MIB) (1997)   \n",
       "9                                     Zoolander (2001)   \n",
       "10              Star Trek V: The Final Frontier (1989)   \n",
       "11                                    Cast Away (2000)   \n",
       "12                                       Clerks (1994)   \n",
       "13              Monty Python and the Holy Grail (1975)   \n",
       "14                                     Hannibal (2001)   \n",
       "15                                       Easy A (2010)   \n",
       "16                             Truman Show, The (1998)   \n",
       "17                         Diamonds Are Forever (1971)   \n",
       "18                                Batman Begins (2005)   \n",
       "19                          Catch Me If You Can (2002)   \n",
       "20                                    Clerks II (2006)   \n",
       "21                                      Skyfall (2012)   \n",
       "22               Jay and Silent Bob Strike Back (2001)   \n",
       "23         South Park: Bigger, Longer and Uncut (1999)   \n",
       "24          Ghostbusters (a.k.a. Ghost Busters) (1984)   \n",
       "25                                    GoldenEye (1995)   \n",
       "26                      Pee-wee's Big Adventure (1985)   \n",
       "27                                  Toy Story 3 (2010)   \n",
       "28                           Back to the Future (1985)   \n",
       "29                                   Fight Club (1999)   \n",
       "..                                                 ...   \n",
       "449                                        Jaws (1975)   \n",
       "450                        Nutty Professor, The (1996)   \n",
       "451                                      Looper (2012)   \n",
       "452                                 Unbreakable (2000)   \n",
       "453                 G.I. Joe: The Rise of Cobra (2009)   \n",
       "454                           Mighty Ducks, The (1992)   \n",
       "455                                Village, The (2004)   \n",
       "456  Starship Troopers 2: Hero of the Federation (2...   \n",
       "457                           God Bless America (2011)   \n",
       "458                               Super Size Me (2004)   \n",
       "459                                  Birds, The (1963)   \n",
       "460                        Inglourious Basterds (2009)   \n",
       "461                   Fast and the Furious, The (2001)   \n",
       "462                             Civil Action, A (1998)   \n",
       "463                            Interpreter, The (2005)   \n",
       "464                         Million Dollar Baby (2004)   \n",
       "465                  E.T. the Extra-Terrestrial (1982)   \n",
       "466                                     Hancock (2008)   \n",
       "467                                   Mr. Deeds (2002)   \n",
       "468                                       Congo (1995)   \n",
       "469            Shaolin Soccer (Siu lam juk kau) (2001)   \n",
       "470                                 Chicken Run (2000)   \n",
       "471                           Battlefield Earth (2000)   \n",
       "472                               Scary Movie 2 (2001)   \n",
       "473                      NeverEnding Story, The (1984)   \n",
       "474                            Bulletproof Monk (2003)   \n",
       "475                                   King Kong (2005)   \n",
       "476                  Passion of the Christ, The (2004)   \n",
       "477                                  Seabiscuit (2003)   \n",
       "478                         Lost in Translation (2003)   \n",
       "\n",
       "                                               genres               rating  \\\n",
       "0                       Drama|Mystery|Sci-Fi|Thriller                 5.00   \n",
       "1             Action|Adventure|Comedy|Fantasy|Romance                 5.00   \n",
       "2                                       Comedy|Sci-Fi                 5.00   \n",
       "3                                     Children|Comedy                 5.00   \n",
       "4                                        Comedy|Crime                 5.00   \n",
       "5                       Comedy|Crime|Mystery|Thriller                 5.00   \n",
       "6                             Adventure|Comedy|Sci-Fi                 5.00   \n",
       "7                                    Action|Drama|War                 5.00   \n",
       "8                                Action|Comedy|Sci-Fi                 5.00   \n",
       "9                                              Comedy                 5.00   \n",
       "10                                      Action|Sci-Fi                 5.00   \n",
       "11                                              Drama                 5.00   \n",
       "12                                             Comedy                 5.00   \n",
       "13                           Adventure|Comedy|Fantasy                 5.00   \n",
       "14                                    Horror|Thriller                 5.00   \n",
       "15                                     Comedy|Romance                 5.00   \n",
       "16                                Comedy|Drama|Sci-Fi                 5.00   \n",
       "17                          Action|Adventure|Thriller                 5.00   \n",
       "18                                  Action|Crime|IMAX                 5.00   \n",
       "19                                        Crime|Drama                 5.00   \n",
       "20                                             Comedy                 5.00   \n",
       "21                     Action|Adventure|Thriller|IMAX                 5.00   \n",
       "22                                   Adventure|Comedy                 5.00   \n",
       "23                           Animation|Comedy|Musical                 5.00   \n",
       "24                               Action|Comedy|Sci-Fi                 5.00   \n",
       "25                          Action|Adventure|Thriller                 5.00   \n",
       "26                                   Adventure|Comedy                 5.00   \n",
       "27   Adventure|Animation|Children|Comedy|Fantasy|IMAX                 5.00   \n",
       "28                            Adventure|Comedy|Sci-Fi                 5.00   \n",
       "29                        Action|Crime|Drama|Thriller                 5.00   \n",
       "..                                                ...                  ...   \n",
       "449                                     Action|Horror                 3.00   \n",
       "450                     Comedy|Fantasy|Romance|Sci-Fi                 3.00   \n",
       "451                               Action|Crime|Sci-Fi                 2.50   \n",
       "452                                      Drama|Sci-Fi                 2.50   \n",
       "453                  Action|Adventure|Sci-Fi|Thriller                 2.50   \n",
       "454                                   Children|Comedy                 2.50   \n",
       "455                            Drama|Mystery|Thriller                 2.50   \n",
       "456                          Action|Horror|Sci-Fi|War                 2.50   \n",
       "457                                      Comedy|Drama                 2.50   \n",
       "458                          Comedy|Documentary|Drama                 2.50   \n",
       "459                                   Horror|Thriller                 2.50   \n",
       "460                                  Action|Drama|War                 2.50   \n",
       "461                             Action|Crime|Thriller                 2.50   \n",
       "462                                             Drama                 2.50   \n",
       "463                                    Drama|Thriller                 2.50   \n",
       "464                                             Drama                 2.50   \n",
       "465                             Children|Drama|Sci-Fi                 2.50   \n",
       "466             Action|Adventure|Comedy|Crime|Fantasy                 2.50   \n",
       "467                                    Comedy|Romance                 2.50   \n",
       "468                   Action|Adventure|Mystery|Sci-Fi                 2.00   \n",
       "469                                     Action|Comedy                 2.00   \n",
       "470                         Animation|Children|Comedy                 2.00   \n",
       "471                                     Action|Sci-Fi                 2.00   \n",
       "472                                            Comedy                 2.00   \n",
       "473                        Adventure|Children|Fantasy                 2.00   \n",
       "474                           Action|Adventure|Sci-Fi                 2.00   \n",
       "475           Action|Adventure|Drama|Fantasy|Thriller                 1.50   \n",
       "476                                             Drama                 1.50   \n",
       "477                                             Drama                 1.50   \n",
       "478                              Comedy|Drama|Romance                 1.00   \n",
       "\n",
       "                                           title_recom  \\\n",
       "0    Star Wars: Episode VI - Return of the Jedi (1983)   \n",
       "1                            Fifth Element, The (1997)   \n",
       "2           Ghostbusters (a.k.a. Ghost Busters) (1984)   \n",
       "3                    Terminator 2: Judgment Day (1991)   \n",
       "4                                  Finding Nemo (2003)   \n",
       "5    Lord of the Rings: The Return of the King, The...   \n",
       "6           Willy Wonka & the Chocolate Factory (1971)   \n",
       "7    Raiders of the Lost Ark (Indiana Jones and the...   \n",
       "8                                    Fight Club (1999)   \n",
       "9         Eternal Sunshine of the Spotless Mind (2004)   \n",
       "10   Lord of the Rings: The Fellowship of the Ring,...   \n",
       "11           Indiana Jones and the Last Crusade (1989)   \n",
       "12                                   Spaceballs (1987)   \n",
       "13                                  Toy Story 2 (1999)   \n",
       "14   Star Wars: Episode V - The Empire Strikes Back...   \n",
       "15                            Kill Bill: Vol. 1 (2003)   \n",
       "16         Indiana Jones and the Temple of Doom (1984)   \n",
       "17                    Shawshank Redemption, The (1994)   \n",
       "18                  Back to the Future Part III (1990)   \n",
       "19                             Army of Darkness (1993)   \n",
       "20                                                 NaN   \n",
       "21                                                 NaN   \n",
       "22                                                 NaN   \n",
       "23                                                 NaN   \n",
       "24                                                 NaN   \n",
       "25                                                 NaN   \n",
       "26                                                 NaN   \n",
       "27                                                 NaN   \n",
       "28                                                 NaN   \n",
       "29                                                 NaN   \n",
       "..                                                 ...   \n",
       "449                                                NaN   \n",
       "450                                                NaN   \n",
       "451                                                NaN   \n",
       "452                                                NaN   \n",
       "453                                                NaN   \n",
       "454                                                NaN   \n",
       "455                                                NaN   \n",
       "456                                                NaN   \n",
       "457                                                NaN   \n",
       "458                                                NaN   \n",
       "459                                                NaN   \n",
       "460                                                NaN   \n",
       "461                                                NaN   \n",
       "462                                                NaN   \n",
       "463                                                NaN   \n",
       "464                                                NaN   \n",
       "465                                                NaN   \n",
       "466                                                NaN   \n",
       "467                                                NaN   \n",
       "468                                                NaN   \n",
       "469                                                NaN   \n",
       "470                                                NaN   \n",
       "471                                                NaN   \n",
       "472                                                NaN   \n",
       "473                                                NaN   \n",
       "474                                                NaN   \n",
       "475                                                NaN   \n",
       "476                                                NaN   \n",
       "477                                                NaN   \n",
       "478                                                NaN   \n",
       "\n",
       "                                    genres_recom           rank_recom  \n",
       "0                        Action|Adventure|Sci-Fi                 1.00  \n",
       "1                 Action|Adventure|Comedy|Sci-Fi                 2.00  \n",
       "2                           Action|Comedy|Sci-Fi                 3.00  \n",
       "3                                  Action|Sci-Fi                 4.00  \n",
       "4            Adventure|Animation|Children|Comedy                 5.00  \n",
       "5                 Action|Adventure|Drama|Fantasy                 6.00  \n",
       "6                Children|Comedy|Fantasy|Musical                 7.00  \n",
       "7                               Action|Adventure                 8.00  \n",
       "8                    Action|Crime|Drama|Thriller                 9.00  \n",
       "9                           Drama|Romance|Sci-Fi                10.00  \n",
       "10                             Adventure|Fantasy                11.00  \n",
       "11                              Action|Adventure                12.00  \n",
       "12                                 Comedy|Sci-Fi                13.00  \n",
       "13   Adventure|Animation|Children|Comedy|Fantasy                14.00  \n",
       "14                       Action|Adventure|Sci-Fi                15.00  \n",
       "15                         Action|Crime|Thriller                16.00  \n",
       "16                      Action|Adventure|Fantasy                17.00  \n",
       "17                                   Crime|Drama                18.00  \n",
       "18               Adventure|Comedy|Sci-Fi|Western                19.00  \n",
       "19        Action|Adventure|Comedy|Fantasy|Horror                20.00  \n",
       "20                                           NaN                  nan  \n",
       "21                                           NaN                  nan  \n",
       "22                                           NaN                  nan  \n",
       "23                                           NaN                  nan  \n",
       "24                                           NaN                  nan  \n",
       "25                                           NaN                  nan  \n",
       "26                                           NaN                  nan  \n",
       "27                                           NaN                  nan  \n",
       "28                                           NaN                  nan  \n",
       "29                                           NaN                  nan  \n",
       "..                                           ...                  ...  \n",
       "449                                          NaN                  nan  \n",
       "450                                          NaN                  nan  \n",
       "451                                          NaN                  nan  \n",
       "452                                          NaN                  nan  \n",
       "453                                          NaN                  nan  \n",
       "454                                          NaN                  nan  \n",
       "455                                          NaN                  nan  \n",
       "456                                          NaN                  nan  \n",
       "457                                          NaN                  nan  \n",
       "458                                          NaN                  nan  \n",
       "459                                          NaN                  nan  \n",
       "460                                          NaN                  nan  \n",
       "461                                          NaN                  nan  \n",
       "462                                          NaN                  nan  \n",
       "463                                          NaN                  nan  \n",
       "464                                          NaN                  nan  \n",
       "465                                          NaN                  nan  \n",
       "466                                          NaN                  nan  \n",
       "467                                          NaN                  nan  \n",
       "468                                          NaN                  nan  \n",
       "469                                          NaN                  nan  \n",
       "470                                          NaN                  nan  \n",
       "471                                          NaN                  nan  \n",
       "472                                          NaN                  nan  \n",
       "473                                          NaN                  nan  \n",
       "474                                          NaN                  nan  \n",
       "475                                          NaN                  nan  \n",
       "476                                          NaN                  nan  \n",
       "477                                          NaN                  nan  \n",
       "478                                          NaN                  nan  \n",
       "\n",
       "[479 rows x 6 columns]"
      ]
     },
     "execution_count": 99,
     "metadata": {},
     "output_type": "execute_result"
    }
   ],
   "source": [
    "### Append movie names/attributes, and manually eyeball randomly selected movies\n",
    "\n",
    "def random_user_score(df,user_col,item_col,user_input=None,):\n",
    "    df = df.copy()\n",
    "    df = pd.merge(df,\n",
    "                  items,\n",
    "                  on = item_col,\n",
    "                  how='left')\n",
    "\n",
    "    # Select random user or user from parameter value\n",
    "    if user_input == None:\n",
    "        user_select = np.random.choice(np.unique(df[user_col].values),1)[0]\n",
    "    else:\n",
    "        user_select = user_input\n",
    "        \n",
    "    display(print('User selected: ',user_select))\n",
    "\n",
    "    # Original user ratings\n",
    "    user_actual = actions1[(actions1[user_col] == user_select)].sort_values(['rating'],ascending=False\n",
    "                                                     )[[user_col,item_col,'rating']]\n",
    "    \n",
    "    user_actual = pd.merge(user_actual,\n",
    "                  items,\n",
    "                  on = item_col,\n",
    "                  how='left')[['title','genres','rating']].reset_index()\n",
    "    \n",
    "\n",
    "    recom = df[(df[user_col] == user_select) & \n",
    "               (~df['rank'].isna())].sort_values(['rank'],ascending=True\n",
    "                                                )[['title','genres','rank']].reset_index()\n",
    "    \n",
    "    recom.rename(columns = {'title':'title_recom',\n",
    "                 'genres':'genres_recom',\n",
    "                 'rank':'rank_recom'},inplace=True)\n",
    "    \n",
    "    combine = pd.concat([user_actual,recom],axis=1)\n",
    "    \n",
    "    display(print('item count for this user in test: ',len(user_actual)))\n",
    "    return combine[['title','genres','rating','title_recom','genres_recom','rank_recom']]\n",
    "    \n",
    "\n",
    "    \n",
    "random_user_score(top_recommend_test,user_col,item_col,None)"
   ]
  },
  {
   "cell_type": "code",
   "execution_count": 48,
   "metadata": {},
   "outputs": [
    {
     "data": {
      "text/html": [
       "<div>\n",
       "<style scoped>\n",
       "    .dataframe tbody tr th:only-of-type {\n",
       "        vertical-align: middle;\n",
       "    }\n",
       "\n",
       "    .dataframe tbody tr th {\n",
       "        vertical-align: top;\n",
       "    }\n",
       "\n",
       "    .dataframe thead th {\n",
       "        text-align: right;\n",
       "    }\n",
       "</style>\n",
       "<table border=\"1\" class=\"dataframe\">\n",
       "  <thead>\n",
       "    <tr style=\"text-align: right;\">\n",
       "      <th></th>\n",
       "      <th>userId</th>\n",
       "      <th>movieId</th>\n",
       "      <th>rating</th>\n",
       "    </tr>\n",
       "  </thead>\n",
       "  <tbody>\n",
       "    <tr>\n",
       "      <th>17527257</th>\n",
       "      <td>121260</td>\n",
       "      <td>1627</td>\n",
       "      <td>1.00</td>\n",
       "    </tr>\n",
       "    <tr>\n",
       "      <th>17527264</th>\n",
       "      <td>121260</td>\n",
       "      <td>1721</td>\n",
       "      <td>1.00</td>\n",
       "    </tr>\n",
       "    <tr>\n",
       "      <th>17527287</th>\n",
       "      <td>121260</td>\n",
       "      <td>2278</td>\n",
       "      <td>2.00</td>\n",
       "    </tr>\n",
       "    <tr>\n",
       "      <th>17527195</th>\n",
       "      <td>121260</td>\n",
       "      <td>457</td>\n",
       "      <td>2.00</td>\n",
       "    </tr>\n",
       "    <tr>\n",
       "      <th>17527218</th>\n",
       "      <td>121260</td>\n",
       "      <td>953</td>\n",
       "      <td>2.00</td>\n",
       "    </tr>\n",
       "    <tr>\n",
       "      <th>17527199</th>\n",
       "      <td>121260</td>\n",
       "      <td>520</td>\n",
       "      <td>2.00</td>\n",
       "    </tr>\n",
       "    <tr>\n",
       "      <th>17527251</th>\n",
       "      <td>121260</td>\n",
       "      <td>1573</td>\n",
       "      <td>2.00</td>\n",
       "    </tr>\n",
       "    <tr>\n",
       "      <th>17527175</th>\n",
       "      <td>121260</td>\n",
       "      <td>42</td>\n",
       "      <td>2.00</td>\n",
       "    </tr>\n",
       "    <tr>\n",
       "      <th>17527292</th>\n",
       "      <td>121260</td>\n",
       "      <td>2387</td>\n",
       "      <td>2.00</td>\n",
       "    </tr>\n",
       "    <tr>\n",
       "      <th>17527275</th>\n",
       "      <td>121260</td>\n",
       "      <td>1917</td>\n",
       "      <td>2.00</td>\n",
       "    </tr>\n",
       "    <tr>\n",
       "      <th>17527180</th>\n",
       "      <td>121260</td>\n",
       "      <td>81</td>\n",
       "      <td>2.00</td>\n",
       "    </tr>\n",
       "    <tr>\n",
       "      <th>17527211</th>\n",
       "      <td>121260</td>\n",
       "      <td>869</td>\n",
       "      <td>2.00</td>\n",
       "    </tr>\n",
       "    <tr>\n",
       "      <th>17527207</th>\n",
       "      <td>121260</td>\n",
       "      <td>733</td>\n",
       "      <td>2.00</td>\n",
       "    </tr>\n",
       "    <tr>\n",
       "      <th>17527196</th>\n",
       "      <td>121260</td>\n",
       "      <td>479</td>\n",
       "      <td>2.00</td>\n",
       "    </tr>\n",
       "    <tr>\n",
       "      <th>17527298</th>\n",
       "      <td>121260</td>\n",
       "      <td>2628</td>\n",
       "      <td>2.00</td>\n",
       "    </tr>\n",
       "    <tr>\n",
       "      <th>17527302</th>\n",
       "      <td>121260</td>\n",
       "      <td>2716</td>\n",
       "      <td>2.00</td>\n",
       "    </tr>\n",
       "    <tr>\n",
       "      <th>17527295</th>\n",
       "      <td>121260</td>\n",
       "      <td>2396</td>\n",
       "      <td>3.00</td>\n",
       "    </tr>\n",
       "    <tr>\n",
       "      <th>17527274</th>\n",
       "      <td>121260</td>\n",
       "      <td>1909</td>\n",
       "      <td>3.00</td>\n",
       "    </tr>\n",
       "    <tr>\n",
       "      <th>17527260</th>\n",
       "      <td>121260</td>\n",
       "      <td>1674</td>\n",
       "      <td>3.00</td>\n",
       "    </tr>\n",
       "    <tr>\n",
       "      <th>17527247</th>\n",
       "      <td>121260</td>\n",
       "      <td>1466</td>\n",
       "      <td>3.00</td>\n",
       "    </tr>\n",
       "    <tr>\n",
       "      <th>17527219</th>\n",
       "      <td>121260</td>\n",
       "      <td>1036</td>\n",
       "      <td>3.00</td>\n",
       "    </tr>\n",
       "    <tr>\n",
       "      <th>17527267</th>\n",
       "      <td>121260</td>\n",
       "      <td>1748</td>\n",
       "      <td>3.00</td>\n",
       "    </tr>\n",
       "    <tr>\n",
       "      <th>17527174</th>\n",
       "      <td>121260</td>\n",
       "      <td>22</td>\n",
       "      <td>3.00</td>\n",
       "    </tr>\n",
       "    <tr>\n",
       "      <th>17527184</th>\n",
       "      <td>121260</td>\n",
       "      <td>198</td>\n",
       "      <td>3.00</td>\n",
       "    </tr>\n",
       "    <tr>\n",
       "      <th>17527289</th>\n",
       "      <td>121260</td>\n",
       "      <td>2288</td>\n",
       "      <td>3.00</td>\n",
       "    </tr>\n",
       "    <tr>\n",
       "      <th>17527181</th>\n",
       "      <td>121260</td>\n",
       "      <td>110</td>\n",
       "      <td>3.00</td>\n",
       "    </tr>\n",
       "    <tr>\n",
       "      <th>17527254</th>\n",
       "      <td>121260</td>\n",
       "      <td>1597</td>\n",
       "      <td>3.00</td>\n",
       "    </tr>\n",
       "    <tr>\n",
       "      <th>17527179</th>\n",
       "      <td>121260</td>\n",
       "      <td>70</td>\n",
       "      <td>3.00</td>\n",
       "    </tr>\n",
       "    <tr>\n",
       "      <th>17527291</th>\n",
       "      <td>121260</td>\n",
       "      <td>2321</td>\n",
       "      <td>3.00</td>\n",
       "    </tr>\n",
       "    <tr>\n",
       "      <th>17527238</th>\n",
       "      <td>121260</td>\n",
       "      <td>1240</td>\n",
       "      <td>3.00</td>\n",
       "    </tr>\n",
       "    <tr>\n",
       "      <th>...</th>\n",
       "      <td>...</td>\n",
       "      <td>...</td>\n",
       "      <td>...</td>\n",
       "    </tr>\n",
       "    <tr>\n",
       "      <th>17527272</th>\n",
       "      <td>121260</td>\n",
       "      <td>1834</td>\n",
       "      <td>4.00</td>\n",
       "    </tr>\n",
       "    <tr>\n",
       "      <th>17527265</th>\n",
       "      <td>121260</td>\n",
       "      <td>1729</td>\n",
       "      <td>4.00</td>\n",
       "    </tr>\n",
       "    <tr>\n",
       "      <th>17527232</th>\n",
       "      <td>121260</td>\n",
       "      <td>1215</td>\n",
       "      <td>4.00</td>\n",
       "    </tr>\n",
       "    <tr>\n",
       "      <th>17527231</th>\n",
       "      <td>121260</td>\n",
       "      <td>1214</td>\n",
       "      <td>4.00</td>\n",
       "    </tr>\n",
       "    <tr>\n",
       "      <th>17527307</th>\n",
       "      <td>121260</td>\n",
       "      <td>2858</td>\n",
       "      <td>5.00</td>\n",
       "    </tr>\n",
       "    <tr>\n",
       "      <th>17527176</th>\n",
       "      <td>121260</td>\n",
       "      <td>47</td>\n",
       "      <td>5.00</td>\n",
       "    </tr>\n",
       "    <tr>\n",
       "      <th>17527206</th>\n",
       "      <td>121260</td>\n",
       "      <td>608</td>\n",
       "      <td>5.00</td>\n",
       "    </tr>\n",
       "    <tr>\n",
       "      <th>17527209</th>\n",
       "      <td>121260</td>\n",
       "      <td>858</td>\n",
       "      <td>5.00</td>\n",
       "    </tr>\n",
       "    <tr>\n",
       "      <th>17527177</th>\n",
       "      <td>121260</td>\n",
       "      <td>50</td>\n",
       "      <td>5.00</td>\n",
       "    </tr>\n",
       "    <tr>\n",
       "      <th>17527215</th>\n",
       "      <td>121260</td>\n",
       "      <td>913</td>\n",
       "      <td>5.00</td>\n",
       "    </tr>\n",
       "    <tr>\n",
       "      <th>17527230</th>\n",
       "      <td>121260</td>\n",
       "      <td>1213</td>\n",
       "      <td>5.00</td>\n",
       "    </tr>\n",
       "    <tr>\n",
       "      <th>17527205</th>\n",
       "      <td>121260</td>\n",
       "      <td>599</td>\n",
       "      <td>5.00</td>\n",
       "    </tr>\n",
       "    <tr>\n",
       "      <th>17527285</th>\n",
       "      <td>121260</td>\n",
       "      <td>2186</td>\n",
       "      <td>5.00</td>\n",
       "    </tr>\n",
       "    <tr>\n",
       "      <th>17527308</th>\n",
       "      <td>121260</td>\n",
       "      <td>2871</td>\n",
       "      <td>5.00</td>\n",
       "    </tr>\n",
       "    <tr>\n",
       "      <th>17527243</th>\n",
       "      <td>121260</td>\n",
       "      <td>1267</td>\n",
       "      <td>5.00</td>\n",
       "    </tr>\n",
       "    <tr>\n",
       "      <th>17527236</th>\n",
       "      <td>121260</td>\n",
       "      <td>1228</td>\n",
       "      <td>5.00</td>\n",
       "    </tr>\n",
       "    <tr>\n",
       "      <th>17527279</th>\n",
       "      <td>121260</td>\n",
       "      <td>2019</td>\n",
       "      <td>5.00</td>\n",
       "    </tr>\n",
       "    <tr>\n",
       "      <th>17527226</th>\n",
       "      <td>121260</td>\n",
       "      <td>1203</td>\n",
       "      <td>5.00</td>\n",
       "    </tr>\n",
       "    <tr>\n",
       "      <th>17527237</th>\n",
       "      <td>121260</td>\n",
       "      <td>1233</td>\n",
       "      <td>5.00</td>\n",
       "    </tr>\n",
       "    <tr>\n",
       "      <th>17527227</th>\n",
       "      <td>121260</td>\n",
       "      <td>1207</td>\n",
       "      <td>5.00</td>\n",
       "    </tr>\n",
       "    <tr>\n",
       "      <th>17527241</th>\n",
       "      <td>121260</td>\n",
       "      <td>1252</td>\n",
       "      <td>5.00</td>\n",
       "    </tr>\n",
       "    <tr>\n",
       "      <th>17527214</th>\n",
       "      <td>121260</td>\n",
       "      <td>908</td>\n",
       "      <td>5.00</td>\n",
       "    </tr>\n",
       "    <tr>\n",
       "      <th>17527213</th>\n",
       "      <td>121260</td>\n",
       "      <td>904</td>\n",
       "      <td>5.00</td>\n",
       "    </tr>\n",
       "    <tr>\n",
       "      <th>17527300</th>\n",
       "      <td>121260</td>\n",
       "      <td>2710</td>\n",
       "      <td>5.00</td>\n",
       "    </tr>\n",
       "    <tr>\n",
       "      <th>17527234</th>\n",
       "      <td>121260</td>\n",
       "      <td>1219</td>\n",
       "      <td>5.00</td>\n",
       "    </tr>\n",
       "    <tr>\n",
       "      <th>17527266</th>\n",
       "      <td>121260</td>\n",
       "      <td>1732</td>\n",
       "      <td>5.00</td>\n",
       "    </tr>\n",
       "    <tr>\n",
       "      <th>17527208</th>\n",
       "      <td>121260</td>\n",
       "      <td>750</td>\n",
       "      <td>5.00</td>\n",
       "    </tr>\n",
       "    <tr>\n",
       "      <th>17527182</th>\n",
       "      <td>121260</td>\n",
       "      <td>111</td>\n",
       "      <td>5.00</td>\n",
       "    </tr>\n",
       "    <tr>\n",
       "      <th>17527221</th>\n",
       "      <td>121260</td>\n",
       "      <td>1089</td>\n",
       "      <td>5.00</td>\n",
       "    </tr>\n",
       "    <tr>\n",
       "      <th>17527189</th>\n",
       "      <td>121260</td>\n",
       "      <td>296</td>\n",
       "      <td>5.00</td>\n",
       "    </tr>\n",
       "  </tbody>\n",
       "</table>\n",
       "<p>138 rows × 3 columns</p>\n",
       "</div>"
      ],
      "text/plain": [
       "          userId  movieId               rating\n",
       "17527257  121260     1627                 1.00\n",
       "17527264  121260     1721                 1.00\n",
       "17527287  121260     2278                 2.00\n",
       "17527195  121260      457                 2.00\n",
       "17527218  121260      953                 2.00\n",
       "17527199  121260      520                 2.00\n",
       "17527251  121260     1573                 2.00\n",
       "17527175  121260       42                 2.00\n",
       "17527292  121260     2387                 2.00\n",
       "17527275  121260     1917                 2.00\n",
       "17527180  121260       81                 2.00\n",
       "17527211  121260      869                 2.00\n",
       "17527207  121260      733                 2.00\n",
       "17527196  121260      479                 2.00\n",
       "17527298  121260     2628                 2.00\n",
       "17527302  121260     2716                 2.00\n",
       "17527295  121260     2396                 3.00\n",
       "17527274  121260     1909                 3.00\n",
       "17527260  121260     1674                 3.00\n",
       "17527247  121260     1466                 3.00\n",
       "17527219  121260     1036                 3.00\n",
       "17527267  121260     1748                 3.00\n",
       "17527174  121260       22                 3.00\n",
       "17527184  121260      198                 3.00\n",
       "17527289  121260     2288                 3.00\n",
       "17527181  121260      110                 3.00\n",
       "17527254  121260     1597                 3.00\n",
       "17527179  121260       70                 3.00\n",
       "17527291  121260     2321                 3.00\n",
       "17527238  121260     1240                 3.00\n",
       "...          ...      ...                  ...\n",
       "17527272  121260     1834                 4.00\n",
       "17527265  121260     1729                 4.00\n",
       "17527232  121260     1215                 4.00\n",
       "17527231  121260     1214                 4.00\n",
       "17527307  121260     2858                 5.00\n",
       "17527176  121260       47                 5.00\n",
       "17527206  121260      608                 5.00\n",
       "17527209  121260      858                 5.00\n",
       "17527177  121260       50                 5.00\n",
       "17527215  121260      913                 5.00\n",
       "17527230  121260     1213                 5.00\n",
       "17527205  121260      599                 5.00\n",
       "17527285  121260     2186                 5.00\n",
       "17527308  121260     2871                 5.00\n",
       "17527243  121260     1267                 5.00\n",
       "17527236  121260     1228                 5.00\n",
       "17527279  121260     2019                 5.00\n",
       "17527226  121260     1203                 5.00\n",
       "17527237  121260     1233                 5.00\n",
       "17527227  121260     1207                 5.00\n",
       "17527241  121260     1252                 5.00\n",
       "17527214  121260      908                 5.00\n",
       "17527213  121260      904                 5.00\n",
       "17527300  121260     2710                 5.00\n",
       "17527234  121260     1219                 5.00\n",
       "17527266  121260     1732                 5.00\n",
       "17527208  121260      750                 5.00\n",
       "17527182  121260      111                 5.00\n",
       "17527221  121260     1089                 5.00\n",
       "17527189  121260      296                 5.00\n",
       "\n",
       "[138 rows x 3 columns]"
      ]
     },
     "execution_count": 48,
     "metadata": {},
     "output_type": "execute_result"
    }
   ],
   "source": [
    "actions1[(actions1[user_col] == 121260)].sort_values(['rating'],ascending=True\n",
    "                                                     )[[user_col,item_col,'rating']]"
   ]
  }
 ],
 "metadata": {
  "kernelspec": {
   "display_name": "Python 2",
   "language": "python",
   "name": "python2"
  },
  "language_info": {
   "codemirror_mode": {
    "name": "ipython",
    "version": 2
   },
   "file_extension": ".py",
   "mimetype": "text/x-python",
   "name": "python",
   "nbconvert_exporter": "python",
   "pygments_lexer": "ipython2",
   "version": "2.7.13"
  }
 },
 "nbformat": 4,
 "nbformat_minor": 2
}
